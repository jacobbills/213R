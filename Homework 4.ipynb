{
 "cells": [
  {
   "cell_type": "markdown",
   "metadata": {},
   "source": [
    "Goal: Classify people into one 4 economic groups\n",
    "\n",
    "# Game plan\n",
    "\n",
    "1. Inspect and clean data (I used [this](https://www.kaggle.com/willkoehrsen/a-complete-introduction-and-walkthrough/notebook) to help me when I couldn't figure out what I wanted to implement, but I came up with what to clean and what I wanted to do before I actually looked for help in cleaning)\n",
    "\n",
    "2. Modeling\n",
    "\n",
    "3. Feature construction and the like\n",
    "\n",
    "## Inspect and clean data"
   ]
  },
  {
   "cell_type": "code",
   "execution_count": 610,
   "metadata": {},
   "outputs": [],
   "source": [
    "import numpy as np\n",
    "import pandas as pd\n",
    "import matplotlib.pyplot as plt\n",
    "%matplotlib inline\n",
    "import seaborn as sns\n",
    "from collections import Counter\n",
    "import warnings\n",
    "warnings.filterwarnings(\"ignore\")"
   ]
  },
  {
   "cell_type": "code",
   "execution_count": 615,
   "metadata": {},
   "outputs": [],
   "source": [
    "train_df = pd.read_csv(\"/Users/jacobbills/Desktop/python/costa rica/train.csv\") # import the data set\n",
    "test_df = pd.read_csv(\"/Users/jacobbills/Desktop/python/costa rica/test.csv\") # import the test set"
   ]
  },
  {
   "cell_type": "code",
   "execution_count": 520,
   "metadata": {},
   "outputs": [
    {
     "data": {
      "text/html": [
       "<div>\n",
       "<style scoped>\n",
       "    .dataframe tbody tr th:only-of-type {\n",
       "        vertical-align: middle;\n",
       "    }\n",
       "\n",
       "    .dataframe tbody tr th {\n",
       "        vertical-align: top;\n",
       "    }\n",
       "\n",
       "    .dataframe thead th {\n",
       "        text-align: right;\n",
       "    }\n",
       "</style>\n",
       "<table border=\"1\" class=\"dataframe\">\n",
       "  <thead>\n",
       "    <tr style=\"text-align: right;\">\n",
       "      <th></th>\n",
       "      <th>Id</th>\n",
       "      <th>v2a1</th>\n",
       "      <th>hacdor</th>\n",
       "      <th>rooms</th>\n",
       "      <th>hacapo</th>\n",
       "      <th>v14a</th>\n",
       "      <th>refrig</th>\n",
       "      <th>v18q</th>\n",
       "      <th>v18q1</th>\n",
       "      <th>r4h1</th>\n",
       "      <th>...</th>\n",
       "      <th>SQBescolari</th>\n",
       "      <th>SQBage</th>\n",
       "      <th>SQBhogar_total</th>\n",
       "      <th>SQBedjefe</th>\n",
       "      <th>SQBhogar_nin</th>\n",
       "      <th>SQBovercrowding</th>\n",
       "      <th>SQBdependency</th>\n",
       "      <th>SQBmeaned</th>\n",
       "      <th>agesq</th>\n",
       "      <th>Target</th>\n",
       "    </tr>\n",
       "  </thead>\n",
       "  <tbody>\n",
       "    <tr>\n",
       "      <th>0</th>\n",
       "      <td>ID_279628684</td>\n",
       "      <td>190000.0</td>\n",
       "      <td>0</td>\n",
       "      <td>3</td>\n",
       "      <td>0</td>\n",
       "      <td>1</td>\n",
       "      <td>1</td>\n",
       "      <td>0</td>\n",
       "      <td>NaN</td>\n",
       "      <td>0</td>\n",
       "      <td>...</td>\n",
       "      <td>100</td>\n",
       "      <td>1849</td>\n",
       "      <td>1</td>\n",
       "      <td>100</td>\n",
       "      <td>0</td>\n",
       "      <td>1.000000</td>\n",
       "      <td>0.0</td>\n",
       "      <td>100.0</td>\n",
       "      <td>1849</td>\n",
       "      <td>4</td>\n",
       "    </tr>\n",
       "    <tr>\n",
       "      <th>1</th>\n",
       "      <td>ID_f29eb3ddd</td>\n",
       "      <td>135000.0</td>\n",
       "      <td>0</td>\n",
       "      <td>4</td>\n",
       "      <td>0</td>\n",
       "      <td>1</td>\n",
       "      <td>1</td>\n",
       "      <td>1</td>\n",
       "      <td>1.0</td>\n",
       "      <td>0</td>\n",
       "      <td>...</td>\n",
       "      <td>144</td>\n",
       "      <td>4489</td>\n",
       "      <td>1</td>\n",
       "      <td>144</td>\n",
       "      <td>0</td>\n",
       "      <td>1.000000</td>\n",
       "      <td>64.0</td>\n",
       "      <td>144.0</td>\n",
       "      <td>4489</td>\n",
       "      <td>4</td>\n",
       "    </tr>\n",
       "    <tr>\n",
       "      <th>2</th>\n",
       "      <td>ID_68de51c94</td>\n",
       "      <td>NaN</td>\n",
       "      <td>0</td>\n",
       "      <td>8</td>\n",
       "      <td>0</td>\n",
       "      <td>1</td>\n",
       "      <td>1</td>\n",
       "      <td>0</td>\n",
       "      <td>NaN</td>\n",
       "      <td>0</td>\n",
       "      <td>...</td>\n",
       "      <td>121</td>\n",
       "      <td>8464</td>\n",
       "      <td>1</td>\n",
       "      <td>0</td>\n",
       "      <td>0</td>\n",
       "      <td>0.250000</td>\n",
       "      <td>64.0</td>\n",
       "      <td>121.0</td>\n",
       "      <td>8464</td>\n",
       "      <td>4</td>\n",
       "    </tr>\n",
       "    <tr>\n",
       "      <th>3</th>\n",
       "      <td>ID_d671db89c</td>\n",
       "      <td>180000.0</td>\n",
       "      <td>0</td>\n",
       "      <td>5</td>\n",
       "      <td>0</td>\n",
       "      <td>1</td>\n",
       "      <td>1</td>\n",
       "      <td>1</td>\n",
       "      <td>1.0</td>\n",
       "      <td>0</td>\n",
       "      <td>...</td>\n",
       "      <td>81</td>\n",
       "      <td>289</td>\n",
       "      <td>16</td>\n",
       "      <td>121</td>\n",
       "      <td>4</td>\n",
       "      <td>1.777778</td>\n",
       "      <td>1.0</td>\n",
       "      <td>121.0</td>\n",
       "      <td>289</td>\n",
       "      <td>4</td>\n",
       "    </tr>\n",
       "    <tr>\n",
       "      <th>4</th>\n",
       "      <td>ID_d56d6f5f5</td>\n",
       "      <td>180000.0</td>\n",
       "      <td>0</td>\n",
       "      <td>5</td>\n",
       "      <td>0</td>\n",
       "      <td>1</td>\n",
       "      <td>1</td>\n",
       "      <td>1</td>\n",
       "      <td>1.0</td>\n",
       "      <td>0</td>\n",
       "      <td>...</td>\n",
       "      <td>121</td>\n",
       "      <td>1369</td>\n",
       "      <td>16</td>\n",
       "      <td>121</td>\n",
       "      <td>4</td>\n",
       "      <td>1.777778</td>\n",
       "      <td>1.0</td>\n",
       "      <td>121.0</td>\n",
       "      <td>1369</td>\n",
       "      <td>4</td>\n",
       "    </tr>\n",
       "  </tbody>\n",
       "</table>\n",
       "<p>5 rows × 143 columns</p>\n",
       "</div>"
      ],
      "text/plain": [
       "             Id      v2a1  hacdor  rooms  hacapo  v14a  refrig  v18q  v18q1  \\\n",
       "0  ID_279628684  190000.0       0      3       0     1       1     0    NaN   \n",
       "1  ID_f29eb3ddd  135000.0       0      4       0     1       1     1    1.0   \n",
       "2  ID_68de51c94       NaN       0      8       0     1       1     0    NaN   \n",
       "3  ID_d671db89c  180000.0       0      5       0     1       1     1    1.0   \n",
       "4  ID_d56d6f5f5  180000.0       0      5       0     1       1     1    1.0   \n",
       "\n",
       "   r4h1   ...    SQBescolari  SQBage  SQBhogar_total  SQBedjefe  SQBhogar_nin  \\\n",
       "0     0   ...            100    1849               1        100             0   \n",
       "1     0   ...            144    4489               1        144             0   \n",
       "2     0   ...            121    8464               1          0             0   \n",
       "3     0   ...             81     289              16        121             4   \n",
       "4     0   ...            121    1369              16        121             4   \n",
       "\n",
       "   SQBovercrowding  SQBdependency  SQBmeaned  agesq  Target  \n",
       "0         1.000000            0.0      100.0   1849       4  \n",
       "1         1.000000           64.0      144.0   4489       4  \n",
       "2         0.250000           64.0      121.0   8464       4  \n",
       "3         1.777778            1.0      121.0    289       4  \n",
       "4         1.777778            1.0      121.0   1369       4  \n",
       "\n",
       "[5 rows x 143 columns]"
      ]
     },
     "execution_count": 520,
     "metadata": {},
     "output_type": "execute_result"
    }
   ],
   "source": [
    "train_df.head()"
   ]
  },
  {
   "cell_type": "code",
   "execution_count": 616,
   "metadata": {},
   "outputs": [],
   "source": [
    "train_id = train_df.Id\n",
    "train_df.drop(columns = 'Id', inplace =True) #Gets rid of the id column\n",
    "target_train = train_df.Target #seperate data frame for our target"
   ]
  },
  {
   "cell_type": "markdown",
   "metadata": {},
   "source": [
    "So as normal, I quickly inspected the data and then took out the Id column and separated out the target column. Next, I'll see how many people fall in each category. As can be seen, it is way unbalanced, with most people in category 4 (not at risk). This means my models will probably do the best fitting those people and accuracy is not a great measure (but I'll be looking at it anyway)."
   ]
  },
  {
   "cell_type": "code",
   "execution_count": 617,
   "metadata": {},
   "outputs": [
    {
     "data": {
      "text/plain": [
       "Text(0,0.5,'Number of People')"
      ]
     },
     "execution_count": 617,
     "metadata": {},
     "output_type": "execute_result"
    },
    {
     "data": {
      "image/png": "[encoded data removed]",
      "text/plain": [
       "<Figure size 432x288 with 1 Axes>"
      ]
     },
     "metadata": {},
     "output_type": "display_data"
    }
   ],
   "source": [
    "target_dict = dict(train_df['Target'].value_counts())\n",
    "plt.bar(target_dict.keys(), target_dict.values())\n",
    "plt.title(\"Number of people in Class\")\n",
    "plt.xticks([1,2,3,4], ['extreme poverty', 'moderate poverty', 'vulnerable household', 'non-vulnerable household'],\n",
    "          rotation=30)\n",
    "plt.ylabel(\"Number of People\")"
   ]
  },
  {
   "cell_type": "markdown",
   "metadata": {},
   "source": [
    "Next I take a look at the data and find out what is an object. There's 4. "
   ]
  },
  {
   "cell_type": "code",
   "execution_count": 618,
   "metadata": {},
   "outputs": [
    {
     "data": {
      "text/html": [
       "<div>\n",
       "<style scoped>\n",
       "    .dataframe tbody tr th:only-of-type {\n",
       "        vertical-align: middle;\n",
       "    }\n",
       "\n",
       "    .dataframe tbody tr th {\n",
       "        vertical-align: top;\n",
       "    }\n",
       "\n",
       "    .dataframe thead th {\n",
       "        text-align: right;\n",
       "    }\n",
       "</style>\n",
       "<table border=\"1\" class=\"dataframe\">\n",
       "  <thead>\n",
       "    <tr style=\"text-align: right;\">\n",
       "      <th></th>\n",
       "      <th>idhogar</th>\n",
       "      <th>dependency</th>\n",
       "      <th>edjefe</th>\n",
       "      <th>edjefa</th>\n",
       "    </tr>\n",
       "  </thead>\n",
       "  <tbody>\n",
       "    <tr>\n",
       "      <th>0</th>\n",
       "      <td>21eb7fcc1</td>\n",
       "      <td>no</td>\n",
       "      <td>10</td>\n",
       "      <td>no</td>\n",
       "    </tr>\n",
       "    <tr>\n",
       "      <th>1</th>\n",
       "      <td>0e5d7a658</td>\n",
       "      <td>8</td>\n",
       "      <td>12</td>\n",
       "      <td>no</td>\n",
       "    </tr>\n",
       "    <tr>\n",
       "      <th>2</th>\n",
       "      <td>2c7317ea8</td>\n",
       "      <td>8</td>\n",
       "      <td>no</td>\n",
       "      <td>11</td>\n",
       "    </tr>\n",
       "    <tr>\n",
       "      <th>3</th>\n",
       "      <td>2b58d945f</td>\n",
       "      <td>yes</td>\n",
       "      <td>11</td>\n",
       "      <td>no</td>\n",
       "    </tr>\n",
       "    <tr>\n",
       "      <th>4</th>\n",
       "      <td>2b58d945f</td>\n",
       "      <td>yes</td>\n",
       "      <td>11</td>\n",
       "      <td>no</td>\n",
       "    </tr>\n",
       "    <tr>\n",
       "      <th>5</th>\n",
       "      <td>2b58d945f</td>\n",
       "      <td>yes</td>\n",
       "      <td>11</td>\n",
       "      <td>no</td>\n",
       "    </tr>\n",
       "    <tr>\n",
       "      <th>6</th>\n",
       "      <td>2b58d945f</td>\n",
       "      <td>yes</td>\n",
       "      <td>11</td>\n",
       "      <td>no</td>\n",
       "    </tr>\n",
       "    <tr>\n",
       "      <th>7</th>\n",
       "      <td>d6dae86b7</td>\n",
       "      <td>yes</td>\n",
       "      <td>9</td>\n",
       "      <td>no</td>\n",
       "    </tr>\n",
       "    <tr>\n",
       "      <th>8</th>\n",
       "      <td>d6dae86b7</td>\n",
       "      <td>yes</td>\n",
       "      <td>9</td>\n",
       "      <td>no</td>\n",
       "    </tr>\n",
       "    <tr>\n",
       "      <th>9</th>\n",
       "      <td>d6dae86b7</td>\n",
       "      <td>yes</td>\n",
       "      <td>9</td>\n",
       "      <td>no</td>\n",
       "    </tr>\n",
       "  </tbody>\n",
       "</table>\n",
       "</div>"
      ],
      "text/plain": [
       "     idhogar dependency edjefe edjefa\n",
       "0  21eb7fcc1         no     10     no\n",
       "1  0e5d7a658          8     12     no\n",
       "2  2c7317ea8          8     no     11\n",
       "3  2b58d945f        yes     11     no\n",
       "4  2b58d945f        yes     11     no\n",
       "5  2b58d945f        yes     11     no\n",
       "6  2b58d945f        yes     11     no\n",
       "7  d6dae86b7        yes      9     no\n",
       "8  d6dae86b7        yes      9     no\n",
       "9  d6dae86b7        yes      9     no"
      ]
     },
     "execution_count": 618,
     "metadata": {},
     "output_type": "execute_result"
    }
   ],
   "source": [
    "# I found the objects using .info(verbose=1) but I'm leaving that out for space purposes\n",
    "strings = ['idhogar', 'dependency', 'edjefe', 'edjefa']\n",
    "train_df[strings].head(10)"
   ]
  },
  {
   "cell_type": "markdown",
   "metadata": {},
   "source": [
    "The best way to deal with this will be to turn the education and dependency variables into regular sorts of variables and then probably drop the household id. For the education variables, a no means that the head of household is notof that gender, so no is 0. The guide says that yes = 1, I don't know where this came from but seems reasonable enough. I tried messing around with some double-for loops but couldn't get them to work so I learned about mapping replacement instead."
   ]
  },
  {
   "cell_type": "code",
   "execution_count": 619,
   "metadata": {},
   "outputs": [],
   "source": [
    "string2 = strings[1:] # since the first variable is the household id\n",
    "gmap = {'yes': 1, 'no': 0} # map of how to replace things\n",
    "\n",
    "for i in string2: # simple for-loop to replace those three columns according to the map \n",
    "    train_df[i] = train_df[i].replace(gmap).astype(np.float64)"
   ]
  },
  {
   "cell_type": "markdown",
   "metadata": {},
   "source": [
    "Next I'll check for nulls and impute missing values. I'll also drop the 'idhogar' column because it doesn't seem very useful right now. "
   ]
  },
  {
   "cell_type": "code",
   "execution_count": 620,
   "metadata": {},
   "outputs": [
    {
     "name": "stdout",
     "output_type": "stream",
     "text": [
      "Index(['v2a1', 'v18q1', 'rez_esc', 'meaneduc', 'SQBmeaned'], dtype='object')\n"
     ]
    }
   ],
   "source": [
    "idhogar_train = train_df[strings[0]]\n",
    "train_df.drop(columns = strings[0], inplace =True) #Gets rid of the idhogar column\n",
    "is_null = train_df.columns[train_df.isnull().any()]\n",
    "print(is_null)"
   ]
  },
  {
   "cell_type": "markdown",
   "metadata": {},
   "source": [
    "'v18q1' is number of tablets in the household, so my guess is that all the nulls should be zeros and will fill in accordingly. The rest are a bit more confusing and will probably take some work to figure out how to do them best. \n",
    "\n",
    "'v2a1' is the monthly rent, so presumably if it is unavailable that means that the people own their own homes. We can check this with the various 'tipovivi#' variables. If I am correct, than NaN is highly correlated with 'tipovivi1/2' \"own own home/paying off home\". I am correct, most of the missing values (though not all) are because the people own their own homes, so I'll fill those ones in with a zero. \n",
    "\n",
    "'rez_esc' is years behind school. My guess is that this mostly is for people who would be expected to be in school so people outside of school would be empty. A description for the nulls and not nulls show that most of the nulls are well about 24, while all the not nulls are between 7 and 17. This means that I can fill anyone outside the school range with a zero and then see how many are left. Doing this leaves one 10 year old, who Im not sure how to deal with (probably give a 0 for ease).\n",
    "\n",
    "'meaneduc' is the average number of years of education for adults. There's only 5 missing variables (this is also true for 'SQBmeaned') so I'll fill these in with the averages.\n",
    "\n",
    "Doing all of this just leaves the missing numbers in 'tipovivi4/5'. Looking at the values counts shows that all households in this category have a missing number for rent. Seeing as this is \"precarious\" and \"other\" I'm guessing these are a lot of slum houses and the like, so probably not much rent. I'll check the target though. The graphs show that while this may be an okay assumption, it probably isn't a reasonable one especially for 'tipovivi5'. So I'm still not sure how to handle this. I think I'll go with the median values and hope for the best (along with a flag to say that it was imputed). "
   ]
  },
  {
   "cell_type": "code",
   "execution_count": 621,
   "metadata": {},
   "outputs": [],
   "source": [
    "train_df['v18q1'] = train_df['v18q1'].fillna(0)  # fill in v18q1 with 0"
   ]
  },
  {
   "cell_type": "code",
   "execution_count": 622,
   "metadata": {},
   "outputs": [
    {
     "name": "stdout",
     "output_type": "stream",
     "text": [
      "5911\n",
      "0\n",
      "0\n",
      "163\n",
      "786\n"
     ]
    }
   ],
   "source": [
    "ownership = ['tipovivi1', 'tipovivi2', 'tipovivi3', \n",
    "             'tipovivi4', 'tipovivi5'] # list of the different ownership variables\n",
    "rent = train_df['v2a1']\n",
    "for i in ownership: # tells me the number of missing for each sort of housing variable\n",
    "    print(train_df.loc[rent.isnull(),i].sum()) "
   ]
  },
  {
   "cell_type": "code",
   "execution_count": 528,
   "metadata": {},
   "outputs": [],
   "source": [
    "train_df.loc[(train_df['tipovivi1'] == 1), 'v2a1'] = 0 #replace all those missing rents for people who own houses"
   ]
  },
  {
   "cell_type": "code",
   "execution_count": 529,
   "metadata": {},
   "outputs": [
    {
     "name": "stdout",
     "output_type": "stream",
     "text": [
      "count    7928.000000\n",
      "mean       38.833249\n",
      "std        20.989486\n",
      "min         0.000000\n",
      "25%        24.000000\n",
      "50%        38.000000\n",
      "75%        54.000000\n",
      "max        97.000000\n",
      "Name: age, dtype: float64\n",
      "count    1629.000000\n",
      "mean       12.258441\n",
      "std         3.218325\n",
      "min         7.000000\n",
      "25%         9.000000\n",
      "50%        12.000000\n",
      "75%        15.000000\n",
      "max        17.000000\n",
      "Name: age, dtype: float64\n"
     ]
    }
   ],
   "source": [
    "print(train_df.loc[train_df['rez_esc'].isnull()]['age'].describe()) # years education behind looks like what \n",
    "print(train_df.loc[train_df['rez_esc'].notnull()]['age'].describe()) # and if it isn't missing, what's it like?\n",
    "train_df.loc[(train_df['age'] > 17), 'rez_esc'] = 0\n",
    "train_df.loc[(train_df['age'] < 7, 'rez_esc')] = 0\n",
    "train_df['rez_esc'] = train_df['rez_esc'].fillna(0) "
   ]
  },
  {
   "cell_type": "code",
   "execution_count": 530,
   "metadata": {},
   "outputs": [
    {
     "name": "stdout",
     "output_type": "stream",
     "text": [
      "False    9552\n",
      "True        5\n",
      "Name: meaneduc, dtype: int64\n",
      "False    9552\n",
      "True        5\n",
      "Name: SQBmeaned, dtype: int64\n",
      "False    9557\n",
      "Name: meaneduc, dtype: int64\n",
      "False    9557\n",
      "Name: SQBmeaned, dtype: int64\n"
     ]
    }
   ],
   "source": [
    "educ = ['meaneduc', 'SQBmeaned'] # the other two variables\n",
    "for i in educ: #checking how many outliers\n",
    "    print(train_df[i].isnull().value_counts())\n",
    "\n",
    "for i in educ: #filling in with the mean\n",
    "    train_df[i] = train_df[i].fillna(train_df[i].mean())\n",
    "    \n",
    "for i in educ: #checking to see if it worked\n",
    "    print(train_df[i].isnull().value_counts())"
   ]
  },
  {
   "cell_type": "code",
   "execution_count": 531,
   "metadata": {},
   "outputs": [
    {
     "data": {
      "image/png": "[encoded data removed]",
      "text/plain": [
       "<Figure size 432x288 with 1 Axes>"
      ]
     },
     "metadata": {},
     "output_type": "display_data"
    }
   ],
   "source": [
    "remainers = ownership[3:] # see ownership list from earlier\n",
    "\n",
    "dict1 = dict(train_df.loc[train_df[remainers[0]] == 1, 'Target'].value_counts()) # since I have pre-written fuctions for dictionaries\n",
    "dict2 = dict(train_df.loc[train_df[remainers[1]] == 1, 'Target'].value_counts())\n",
    "    \n",
    "def statusplot(dictionary, title): #defines a way of plotting values from a dictionary\n",
    "    plt.bar(dictionary.keys(), dictionary.values()) #plots the values\n",
    "    plt.xticks([1,2,3,4], ['extreme poverty', 'moderate poverty', 'vulnerable household', 'non-vulnerable household'],\n",
    "          rotation=30) #sets up a clean x axis\n",
    "    plt.ylabel('Number of observations in that category') # y axis\n",
    "    plt.title('Status of Households ' + title) #one sort of title for this \n",
    "    \n",
    "statusplot(dict1, 'in Precarious homes')"
   ]
  },
  {
   "cell_type": "code",
   "execution_count": 532,
   "metadata": {},
   "outputs": [
    {
     "data": {
      "image/png": "[encoded data removed]",
      "text/plain": [
       "<Figure size 432x288 with 1 Axes>"
      ]
     },
     "metadata": {},
     "output_type": "display_data"
    }
   ],
   "source": [
    "statusplot(dict2, 'in Other homes') #in retrospect, I could have done this as a for-loop. Oh well."
   ]
  },
  {
   "cell_type": "code",
   "execution_count": 533,
   "metadata": {},
   "outputs": [
    {
     "data": {
      "text/plain": [
       "Index([], dtype='object')"
      ]
     },
     "execution_count": 533,
     "metadata": {},
     "output_type": "execute_result"
    }
   ],
   "source": [
    "train_df['v2a1-impute'] = train_df['v2a1'].isnull() # show that I imputed values\n",
    "train_df['v2a1'] = train_df['v2a1'].fillna(train_df['v2a1'].median()) #median for ease\n",
    "train_df.columns[train_df.isnull().any()]"
   ]
  },
  {
   "cell_type": "markdown",
   "metadata": {},
   "source": [
    "There's bunch of square terms. My guess is that these are highly correlated with the original terms and that in general I'd rather not start with polynomial terms in initial models. So I'll check the correlations and then probably drop all of them. After checking the correlations my thoughts about the correlations were confirmed (basically all over .94) so I will drop them."
   ]
  },
  {
   "cell_type": "code",
   "execution_count": 534,
   "metadata": {},
   "outputs": [
    {
     "data": {
      "text/plain": [
       "<matplotlib.axes._subplots.AxesSubplot at 0x110fe8f98>"
      ]
     },
     "execution_count": 534,
     "metadata": {},
     "output_type": "execute_result"
    },
    {
     "data": {
      "image/png": "[encoded data removed]",
      "text/plain": [
       "<Figure size 432x288 with 2 Axes>"
      ]
     },
     "metadata": {},
     "output_type": "display_data"
    }
   ],
   "source": [
    "SQB = ['SQBescolari', 'SQBage', 'SQBhogar_total', 'SQBedjefe', 'SQBhogar_nin', 'SQBovercrowding', 'SQBdependency'\n",
    "      , 'SQBmeaned', 'agesq'] # all the square terms\n",
    "non_SQB = ['escolari', 'age', 'hogar_total', 'edjefe', 'hogar_nin', 'overcrowding', 'dependency', 'meaneduc']\n",
    "both_SQB = SQB + non_SQB\n",
    "SQB_corr = train_df[both_SQB].corr()\n",
    "\n",
    "sns.heatmap(SQB_corr)"
   ]
  },
  {
   "cell_type": "code",
   "execution_count": 535,
   "metadata": {},
   "outputs": [],
   "source": [
    "def corr_extract(var, sensitivity): # definine a function that will tell me where there is high correlation\n",
    "    y = dict() #the plan is to get a dictionary that gives me the name and value\n",
    "    count = 0 # set up the counter\n",
    "    for e in var:\n",
    "        if abs(e)<sensitivity: #most common is lower correlation so I'll get rid of those first\n",
    "            count = count + 1 #move to the next one\n",
    "        elif abs(e)==1: # get rid of perfect correlation because that isn't very interesting\n",
    "            count = count + 1 #\n",
    "        else: \n",
    "            x = var.index[count] #extract the name from the series\n",
    "            y[x] = e #key: index, value: correlation\n",
    "            count = count + 1 # move to the next one\n",
    "    return y \n",
    "\n",
    "def i_corr_extract(list_corr, var, sensitivity): #for doing a correlation extract except iterated\n",
    "    for x in list_corr:\n",
    "        print(x)\n",
    "        print(corr_extract(var[x], sensitivity))\n",
    "        print()"
   ]
  },
  {
   "cell_type": "code",
   "execution_count": 536,
   "metadata": {},
   "outputs": [
    {
     "name": "stdout",
     "output_type": "stream",
     "text": [
      "SQBescolari\n",
      "{'SQBmeaned': 0.510806349744939, 'escolari': 0.9433250715255214, 'meaneduc': 0.5605935539382516}\n",
      "\n",
      "SQBage\n",
      "{'age': 0.9580898540659534}\n",
      "\n",
      "SQBhogar_total\n",
      "{'SQBhogar_nin': 0.7339556080149506, 'hogar_total': 0.9501727040705933, 'hogar_nin': 0.712828734501634, 'overcrowding': 0.5423647281184741}\n",
      "\n",
      "SQBedjefe\n",
      "{'edjefe': 0.9337188866967435, 'meaneduc': 0.500060772528984}\n",
      "\n",
      "SQBhogar_nin\n",
      "{'SQBhogar_total': 0.7339556080149506, 'hogar_total': 0.684301855036975, 'hogar_nin': 0.884141453289388, 'overcrowding': 0.5227749496154747}\n",
      "\n",
      "SQBovercrowding\n",
      "{'overcrowding': 0.9450937275042812}\n",
      "\n",
      "SQBdependency\n",
      "{'dependency': 0.9442208598711309}\n",
      "\n",
      "SQBmeaned\n",
      "{'SQBescolari': 0.510806349744939, 'meaneduc': 0.9480025570948891}\n",
      "\n",
      "agesq\n",
      "{'age': 0.9580898540659534}\n",
      "\n",
      "escolari\n",
      "{'SQBescolari': 0.9433250715255214, 'meaneduc': 0.520049509478467}\n",
      "\n",
      "age\n",
      "{'SQBage': 0.9580898540659534, 'agesq': 0.9580898540659534}\n",
      "\n",
      "hogar_total\n",
      "{'SQBhogar_total': 0.9501727040705933, 'SQBhogar_nin': 0.684301855036975, 'hogar_nin': 0.7532460870650399, 'overcrowding': 0.5855600782454274}\n",
      "\n",
      "edjefe\n",
      "{'SQBedjefe': 0.9337188866967435}\n",
      "\n",
      "hogar_nin\n",
      "{'SQBhogar_total': 0.712828734501634, 'SQBhogar_nin': 0.884141453289388, 'hogar_total': 0.7532460870650399, 'overcrowding': 0.595887769927756}\n",
      "\n",
      "overcrowding\n",
      "{'SQBhogar_total': 0.5423647281184741, 'SQBhogar_nin': 0.5227749496154747, 'SQBovercrowding': 0.9450937275042812, 'hogar_total': 0.5855600782454274, 'hogar_nin': 0.595887769927756}\n",
      "\n",
      "dependency\n",
      "{'SQBdependency': 0.9442208598711309}\n",
      "\n",
      "meaneduc\n",
      "{'SQBescolari': 0.5605935539382516, 'SQBedjefe': 0.500060772528984, 'SQBmeaned': 0.9480025570948891, 'escolari': 0.520049509478467}\n",
      "\n"
     ]
    }
   ],
   "source": [
    "i_corr_extract(both_SQB, SQB_corr, .5) # I could rewrite this so that var is taken from the list, maybe."
   ]
  },
  {
   "cell_type": "code",
   "execution_count": 537,
   "metadata": {},
   "outputs": [],
   "source": [
    "train_df = train_df.drop(columns = SQB) #dropping the squares"
   ]
  },
  {
   "cell_type": "markdown",
   "metadata": {},
   "source": [
    "## Modeling\n",
    "\n",
    "Now that I have some cleaner data, let's do some basic modelling to see how things could work. I imported a whole bunch of different classification models but for various reasons only ended up using a fraction of them. I couldn't get naive bayes or AdaBoost to work and never bothered doing a logistic regression. I also imported basically all the metrics that got mentioned at some point in the lectures, but mostly just used the accuracy score, f1 score, and classification report since those are easy to understand and use. As for how I will evaluate models, I'm cross-validating them using micro-f1 since macro-f1 was giving me problems. I will then consider how long it takes to run a model, if it seems to be over fitting the training data, and how well it does on test accuracy (though that's less important) and on the different f1, especially weighted f1 test."
   ]
  },
  {
   "cell_type": "code",
   "execution_count": 273,
   "metadata": {},
   "outputs": [],
   "source": [
    "## Models\n",
    "from sklearn.linear_model import LogisticRegression, PassiveAggressiveClassifier # Logistic Regression and something I saw on the API\n",
    "from sklearn.neighbors import KNeighborsClassifier #Nearest Neighbors\n",
    "from sklearn.naive_bayes import MultinomialNB, ComplementNB, GaussianNB # different Bayesian models\n",
    "from sklearn.svm import SVC #support vector machine\n",
    "from sklearn.tree import DecisionTreeClassifier\n",
    "from sklearn.ensemble import RandomForestClassifier, GradientBoostingClassifier, AdaBoostClassifier #ensemble models\n",
    "\n",
    "\n",
    "## Useful tools\n",
    "from sklearn.model_selection import train_test_split #to make splits\n",
    "from sklearn.model_selection import GridSearchCV #to do cross validation\n",
    "from sklearn.preprocessing import StandardScaler #scaler\n",
    "\n",
    "\n",
    "# Metrics\n",
    "from sklearn.metrics import accuracy_score, f1_score, mean_squared_error #different ways of scoring\n",
    "from sklearn.metrics import classification_report # classification report\n",
    "from sklearn.metrics import confusion_matrix # confusion matrix\n",
    "from sklearn.metrics import precision_recall_fscore_support\n",
    "from sklearn.metrics import precision_recall_curve, average_precision_score\n",
    "from sklearn.metrics import roc_curve, auc\n"
   ]
  },
  {
   "cell_type": "code",
   "execution_count": 288,
   "metadata": {},
   "outputs": [],
   "source": [
    "# make all the models easily callable\n",
    "lgc = LogisticRegression()\n",
    "knn = KNeighborsClassifier()\n",
    "mnb = MultinomialNB()\n",
    "svc = SVC()\n",
    "tree = DecisionTreeClassifier()\n",
    "rfc = RandomForestClassifier()\n",
    "gbc = GradientBoostingClassifier(random_state=0)\n",
    "abc = AdaBoostClassifier"
   ]
  },
  {
   "cell_type": "code",
   "execution_count": 609,
   "metadata": {},
   "outputs": [],
   "source": [
    "scaler = StandardScaler()\n",
    "no_target = train_df.drop(columns = 'Target')\n",
    "scaler.fit(no_target)\n",
    "scaled_df = scaler.transform(no_target)"
   ]
  },
  {
   "cell_type": "code",
   "execution_count": 539,
   "metadata": {},
   "outputs": [],
   "source": [
    "X_train, X_test, y_train, y_test = train_test_split(scaled_df, target_train, test_size=.2, random_state = 11)\n",
    "#set up the train test split"
   ]
  },
  {
   "cell_type": "markdown",
   "metadata": {},
   "source": [
    "First model I used that worked was nearest neighbors. It took a really long time to run and probably is suffering from the curse of dimensionality right now. At first, I accidentally allowed for 1 and 3 neighbors, leading it to perform extremely well. However, it was way overfitting and I just didn't feel that good about it. That being said, it still seems to be over-fitting now but whatever. It actually performs very well but I won't use as my primary model because of that overfitting issue. It definitely does better (in most cases) with precision over recall and while it is exceptionally good at classifying things into the 4th category, it does worse with the smaller categories. "
   ]
  },
  {
   "cell_type": "code",
   "execution_count": 315,
   "metadata": {},
   "outputs": [
    {
     "name": "stdout",
     "output_type": "stream",
     "text": [
      "Best Params: {'n_neighbors': 5, 'p': 1, 'weights': 'distance'}\n",
      "Train F1: [1. 1. 1. 1.]\n",
      "Test Classification Report:\n",
      "              precision    recall  f1-score   support\n",
      "\n",
      "           1       0.86      0.74      0.80       141\n",
      "           2       0.89      0.75      0.81       314\n",
      "           3       0.88      0.68      0.77       242\n",
      "           4       0.88      0.98      0.93      1215\n",
      "\n",
      "   micro avg       0.88      0.88      0.88      1912\n",
      "   macro avg       0.88      0.79      0.83      1912\n",
      "weighted avg       0.88      0.88      0.88      1912\n",
      "\n",
      "Train Accuracy: 1.0\tTest accuracy: 0.8828451882845189\n"
     ]
    }
   ],
   "source": [
    "# Nearest Neighbors\n",
    "gridsearch = GridSearchCV(knn, {\"n_neighbors\": [5, 7, 9, 11], \"weights\": ['uniform', 'distance'], \n",
    "                                'p': [1, 2, 3]}, scoring='f1_micro', cv=3)\n",
    "gridsearch.fit(X_train, y_train)\n",
    "print(\"Best Params: {}\".format(gridsearch.best_params_))\n",
    "y_pred_train = gridsearch.predict(X_train)\n",
    "print(\"Train F1: {}\".format(f1_score(y_train, y_pred_train, average=None)))\n",
    "print(\"Test Classification Report:\")\n",
    "y_pred_test = gridsearch.predict(X_test)\n",
    "print(classification_report(y_test, y_pred_test))\n",
    "print(\"Train Accuracy: {}\\tTest accuracy: {}\".format(accuracy_score(y_train, y_pred_train),\n",
    "                                                     accuracy_score(y_test, y_pred_test)))"
   ]
  },
  {
   "cell_type": "markdown",
   "metadata": {},
   "source": [
    "Next I tried a basic decision tree, not expecting it to be very good. Unsurprisingly, it liked to go deep and performed much worse than the nearest neighbors model (but wasn't overfitting as bad!). It also did better on precision than recall. I pulled out the features from my best model just to makes sure that worked, it did. "
   ]
  },
  {
   "cell_type": "code",
   "execution_count": 285,
   "metadata": {},
   "outputs": [
    {
     "name": "stdout",
     "output_type": "stream",
     "text": [
      "Best Params: {'max_depth': 11, 'min_samples_leaf': 3}\n",
      "Train F1: [0.70095238 0.72423863 0.65437788 0.90570891]\n",
      "Test Classification Report:\n",
      "              precision    recall  f1-score   support\n",
      "\n",
      "           1       0.69      0.50      0.58       141\n",
      "           2       0.67      0.55      0.61       314\n",
      "           3       0.61      0.49      0.54       242\n",
      "           4       0.82      0.92      0.86      1215\n",
      "\n",
      "   micro avg       0.77      0.77      0.77      1912\n",
      "   macro avg       0.70      0.62      0.65      1912\n",
      "weighted avg       0.76      0.77      0.76      1912\n",
      "\n",
      "Train Accuracy: 0.8346631785480706\tTest accuracy: 0.7714435146443515\n"
     ]
    }
   ],
   "source": [
    "# tree\n",
    "gridsearch = GridSearchCV(tree, {\"max_depth\": [1, 3, 5, 7, 9, 11], \"min_samples_leaf\": [3 , 5 , 7 , 9]}, \n",
    "                          scoring='f1_micro', cv=3)\n",
    "gridsearch.fit(X_train, y_train)\n",
    "print(\"Best Params: {}\".format(gridsearch.best_params_))\n",
    "y_pred_train = gridsearch.predict(X_train)\n",
    "print(\"Train F1: {}\".format(f1_score(y_train, y_pred_train, average=None)))\n",
    "print(\"Test Classification Report:\")\n",
    "y_pred_test = gridsearch.predict(X_test)\n",
    "print(classification_report(y_test, y_pred_test))\n",
    "print(\"Train Accuracy: {}\\tTest accuracy: {}\".format(accuracy_score(y_train, y_pred_train),\n",
    "                                                     accuracy_score(y_test, y_pred_test)))"
   ]
  },
  {
   "cell_type": "code",
   "execution_count": 308,
   "metadata": {},
   "outputs": [
    {
     "data": {
      "text/plain": [
       "[('age', 0.14116739529764427),\n",
       " ('techoentrepiso', 0.07465791631662343),\n",
       " ('lugar6', 0.0642197855692105),\n",
       " ('area2', 0.05259072738412137),\n",
       " ('tipovivi2', 0.03891102031149154),\n",
       " ('r4m2', 0.028811910021457176),\n",
       " ('refrig', 0.02808424315666359),\n",
       " ('hacdor', 0.02262433433677883),\n",
       " ('etecho3', 0.022466888012337097),\n",
       " ('v18q', 0.021233823347074673),\n",
       " ('parentesco10', 0.019021647627468177),\n",
       " ('r4h1', 0.018082855446533833),\n",
       " ('noelec', 0.0179962366055168),\n",
       " ('coopele', 0.01765037739404932),\n",
       " ('area1', 0.01699100707613381),\n",
       " ('r4h3', 0.016327205704140566),\n",
       " ('r4m1', 0.015433215772270593),\n",
       " ('r4m3', 0.015081126496255658),\n",
       " ('sanitario5', 0.014687504087212958),\n",
       " ('escolari', 0.013900573559726983),\n",
       " ('v18q1', 0.013708373019126141),\n",
       " ('instlevel4', 0.01361801473478455),\n",
       " ('lugar5', 0.013028822698984642),\n",
       " ('paredzinc', 0.013017530915252408),\n",
       " ('instlevel3', 0.011767750487662366),\n",
       " ('r4t3', 0.011563013693330184),\n",
       " ('sanitario6', 0.011458884657563567),\n",
       " ('abastaguadentro', 0.01085982187657586),\n",
       " ('epared1', 0.010721754776870564),\n",
       " ('elimbasu4', 0.009637100388780611),\n",
       " ('computer', 0.009633277307877853),\n",
       " ('epared2', 0.009584934463833617),\n",
       " ('television', 0.009462676864992345),\n",
       " ('elimbasu6', 0.009303527329720068),\n",
       " ('parentesco12', 0.008383363256813107),\n",
       " ('tipovivi5', 0.0077852773301420415),\n",
       " ('etecho1', 0.00768536515609916),\n",
       " ('hhsize', 0.0074822261706776905),\n",
       " ('r4h2', 0.0074496599570501405),\n",
       " ('elimbasu5', 0.007036552042000769),\n",
       " ('lugar1', 0.0068419129937257435),\n",
       " ('parentesco11', 0.006762721396104733),\n",
       " ('mobilephone', 0.006076983203052733),\n",
       " ('pisoother', 0.005913259192286221),\n",
       " ('tipovivi3', 0.0056466351183331685),\n",
       " ('energcocinar4', 0.005552434905536875),\n",
       " ('tamviv', 0.005511699883404433),\n",
       " ('lugar3', 0.005483755308375408),\n",
       " ('paredzocalo', 0.00544531349974532),\n",
       " ('overcrowding', 0.00499962388713568),\n",
       " ('epared3', 0.004554990777603721),\n",
       " ('qmobilephone', 0.004229002133010012),\n",
       " ('instlevel5', 0.004054389016714959),\n",
       " ('tipovivi1', 0.003990029235432617),\n",
       " ('SQBescolari', 0.003966261550352178),\n",
       " ('r4t1', 0.0038100615361987343),\n",
       " ('instlevel9', 0.003541614050857375),\n",
       " ('hogar_nin', 0.003489149581674349),\n",
       " ('rooms', 0.003259019147714509),\n",
       " ('v14a', 0.0031000906299784125),\n",
       " ('female', 0.0027873184069282892),\n",
       " ('lugar4', 0.0027384904810217343),\n",
       " ('public', 0.002731137207103267),\n",
       " ('tipovivi4', 0.0026942096897103586),\n",
       " ('paredpreb', 0.002678883608361907),\n",
       " ('instlevel7', 0.00240908924564107),\n",
       " ('tamhog', 0.002251645674118263),\n",
       " ('energcocinar2', 0.0022070832318803733),\n",
       " ('sanitario1', 0.0021814830812246027),\n",
       " ('v2a1', 0.002122478491814134),\n",
       " ('pisonotiene', 0.0019054257263294153),\n",
       " ('edjefa', 0.0018841443393768497),\n",
       " ('lugar2', 0.0014945092019172167),\n",
       " ('dependency', 0.0013358789711480528),\n",
       " ('energcocinar1', 0.0012637563153054163),\n",
       " ('rez_esc', 0.001163408729647655),\n",
       " ('parentesco3', 0.0011511900496826589),\n",
       " ('edjefe', 0.0010911549243326952),\n",
       " ('pisocemento', 0.0009962718874342),\n",
       " ('paredfibras', 0.0008131691933799811),\n",
       " ('eviv3', 0.0007837700915521045),\n",
       " ('eviv1', 0.000756346897559143),\n",
       " ('hogar_mayor', 0.0004138182018202773),\n",
       " ('estadocivil2', 0.00023268174592953138),\n",
       " ('parentesco6', 0.00023268174592953138),\n",
       " ('estadocivil6', 0.00018859467827972532),\n",
       " ('eviv2', 0.000134710484485518),\n",
       " ('hacapo', 0.0),\n",
       " ('r4t2', 0.0),\n",
       " ('paredblolad', 0.0),\n",
       " ('pareddes', 0.0),\n",
       " ('paredmad', 0.0),\n",
       " ('paredother', 0.0),\n",
       " ('pisomoscer', 0.0),\n",
       " ('pisonatur', 0.0),\n",
       " ('pisomadera', 0.0),\n",
       " ('techozinc', 0.0),\n",
       " ('techocane', 0.0),\n",
       " ('techootro', 0.0),\n",
       " ('cielorazo', 0.0),\n",
       " ('abastaguafuera', 0.0),\n",
       " ('abastaguano', 0.0),\n",
       " ('planpri', 0.0),\n",
       " ('sanitario2', 0.0),\n",
       " ('sanitario3', 0.0),\n",
       " ('energcocinar3', 0.0),\n",
       " ('elimbasu1', 0.0),\n",
       " ('elimbasu2', 0.0),\n",
       " ('elimbasu3', 0.0),\n",
       " ('etecho2', 0.0),\n",
       " ('dis', 0.0),\n",
       " ('male', 0.0),\n",
       " ('estadocivil1', 0.0),\n",
       " ('estadocivil3', 0.0),\n",
       " ('estadocivil4', 0.0),\n",
       " ('estadocivil5', 0.0),\n",
       " ('estadocivil7', 0.0),\n",
       " ('parentesco1', 0.0),\n",
       " ('parentesco2', 0.0),\n",
       " ('parentesco4', 0.0),\n",
       " ('parentesco5', 0.0),\n",
       " ('parentesco7', 0.0),\n",
       " ('parentesco8', 0.0),\n",
       " ('parentesco9', 0.0),\n",
       " ('hogar_adul', 0.0),\n",
       " ('hogar_total', 0.0),\n",
       " ('meaneduc', 0.0),\n",
       " ('instlevel1', 0.0),\n",
       " ('instlevel2', 0.0),\n",
       " ('instlevel6', 0.0),\n",
       " ('instlevel8', 0.0),\n",
       " ('bedrooms', 0.0)]"
      ]
     },
     "execution_count": 308,
     "metadata": {},
     "output_type": "execute_result"
    }
   ],
   "source": [
    "#best tree\n",
    "treeb = DecisionTreeClassifier(max_depth = 11, min_samples_leaf = 3)\n",
    "treeb.fit(X_train, y_train)\n",
    "feature_imptre = sorted(list(zip(train_df, treeb.feature_importances_)), key=lambda x: x[1], reverse=True)\n",
    "feature_imptre"
   ]
  },
  {
   "cell_type": "markdown",
   "metadata": {},
   "source": [
    "I like SVMs so I tried one. It took a really long time to run and actually came up with a polynomial model, which surprised me. Did worse than the nearest neighbors and I forgot to run the train accuracy to see how it did with over fitting. The train F1 seems to indicate it is somewhat overfitting but not as bad as some of the other models. Like all the models, it's best at classifying into 4. What is interesting is that the precision and recall for class 4 are actually the same, while most models so far did much better on recall than precision (for class 4). "
   ]
  },
  {
   "cell_type": "code",
   "execution_count": 312,
   "metadata": {},
   "outputs": [
    {
     "name": "stdout",
     "output_type": "stream",
     "text": [
      "Best Params: {'C': 0.2, 'degree': 3, 'gamma': 1, 'kernel': 'poly'}\n",
      "Test Accuracy: 0.8415271966527197\n"
     ]
    }
   ],
   "source": [
    "# SVM\n",
    "gridsearch = GridSearchCV(svc, {\"C\": [0.2, 0.5, 0.7], \"kernel\": ['linear', 'poly', 'rbf'], \n",
    "                                'degree': [1, 2, 3], 'gamma': [1, 5, 11]}, scoring=\"f1_micro\", cv=3)\n",
    "gridsearch.fit(X_train, y_train)\n",
    "print(\"Best Params: {}\".format(gridsearch.best_params_))\n",
    "print(\"Test Accuracy: {}\".format(accuracy_score(y_test, gridsearch.predict(X_test))))"
   ]
  },
  {
   "cell_type": "code",
   "execution_count": 314,
   "metadata": {},
   "outputs": [
    {
     "name": "stdout",
     "output_type": "stream",
     "text": [
      "Train F1: [0.88105727 0.840301   0.76799007 0.93153384]\n",
      "Test Classification Report:\n",
      "              precision    recall  f1-score   support\n",
      "\n",
      "           1       0.71      0.75      0.73       141\n",
      "           2       0.77      0.76      0.76       314\n",
      "           3       0.69      0.64      0.66       242\n",
      "           4       0.91      0.91      0.91      1215\n",
      "\n",
      "   micro avg       0.84      0.84      0.84      1912\n",
      "   macro avg       0.77      0.77      0.77      1912\n",
      "weighted avg       0.84      0.84      0.84      1912\n",
      "\n"
     ]
    }
   ],
   "source": [
    "print(\"Train F1: {}\".format(f1_score(y_train, y_pred_train, average=None)))\n",
    "print(\"Test Classification Report:\")\n",
    "y_pred_test = gridsearch.predict(X_test)\n",
    "print(classification_report(y_test, y_pred_test))"
   ]
  },
  {
   "cell_type": "markdown",
   "metadata": {},
   "source": [
    "Moving into more serious models, I ran a random forest. It's still way overfitting (look at the F1 for train vs test) but is doing okay overall and shows good room for improvement. Interestingly, this one does much better on recall than the other models (except with class 4, so the reverse) and has some of the best F1 scores because of that, even if the weighted average f1 is a little lower than say nearest neighbors. Those good f1s make me like this model the most so far. I also created a features_importance list to use later"
   ]
  },
  {
   "cell_type": "code",
   "execution_count": 287,
   "metadata": {},
   "outputs": [
    {
     "name": "stdout",
     "output_type": "stream",
     "text": [
      "Best Params: {'class_weight': 'balanced_subsample', 'max_depth': 11, 'max_features': None, 'min_samples_leaf': 3, 'n_estimators': 500}\n",
      "Train F1: [0.89581749 0.91353238 0.85043718 0.94546243]\n",
      "Test Classification Report:\n",
      "              precision    recall  f1-score   support\n",
      "\n",
      "           1       0.64      0.87      0.73       141\n",
      "           2       0.81      0.79      0.80       314\n",
      "           3       0.62      0.81      0.70       242\n",
      "           4       0.93      0.85      0.89      1215\n",
      "\n",
      "   micro avg       0.83      0.83      0.83      1912\n",
      "   macro avg       0.75      0.83      0.78      1912\n",
      "weighted avg       0.85      0.83      0.84      1912\n",
      "\n",
      "Train Accuracy: 0.9223021582733812\tTest accuracy: 0.8331589958158996\n"
     ]
    }
   ],
   "source": [
    "# RandomForestClassifier\n",
    "gridsearch = GridSearchCV(rfc, {\"n_estimators\": [20, 50, 100, 200, 500], \"max_depth\": [1, 3, 5, 7, 9, 11], \n",
    "                                 \"min_samples_leaf\": [3 , 5 , 7 , 9], \"max_features\": [None, 'sqrt', 'log2']\n",
    "                                , \"class_weight\": [\"balanced\", \"balanced_subsample\"], 'random_state': 9}, \n",
    "                          scoring='f1_micro', cv=3)\n",
    "gridsearch.fit(X_train, y_train)\n",
    "print(\"Best Params: {}\".format(gridsearch.best_params_))\n",
    "y_pred_train = gridsearch.predict(X_train)\n",
    "print(\"Train F1: {}\".format(f1_score(y_train, y_pred_train, average=None)))\n",
    "print(\"Test Classification Report:\")\n",
    "y_pred_test = gridsearch.predict(X_test)\n",
    "print(classification_report(y_test, y_pred_test))\n",
    "print(\"Train Accuracy: {}\\tTest accuracy: {}\".format(accuracy_score(y_train, y_pred_train),\n",
    "                                                     accuracy_score(y_test, y_pred_test)))"
   ]
  },
  {
   "cell_type": "code",
   "execution_count": 540,
   "metadata": {},
   "outputs": [
    {
     "data": {
      "text/plain": [
       "RandomForestClassifier(bootstrap=True, class_weight='balanced_subsample',\n",
       "            criterion='gini', max_depth=11, max_features=None,\n",
       "            max_leaf_nodes=None, min_impurity_decrease=0.0,\n",
       "            min_impurity_split=None, min_samples_leaf=3,\n",
       "            min_samples_split=2, min_weight_fraction_leaf=0.0,\n",
       "            n_estimators=500, n_jobs=None, oob_score=False, random_state=9,\n",
       "            verbose=0, warm_start=False)"
      ]
     },
     "execution_count": 540,
     "metadata": {},
     "output_type": "execute_result"
    }
   ],
   "source": [
    "##best parameters\n",
    "rfcb = RandomForestClassifier(n_estimators=500, max_depth=11, min_samples_leaf = 3, max_features= None, \n",
    "                              class_weight = \"balanced_subsample\", random_state=9)\n",
    "rfcb.fit(X_train, y_train)"
   ]
  },
  {
   "cell_type": "code",
   "execution_count": 541,
   "metadata": {
    "scrolled": false
   },
   "outputs": [],
   "source": [
    "feature_imp_rfc = sorted(list(zip(train_df, rfcb.feature_importances_)), key=lambda x: x[1], reverse=True)"
   ]
  },
  {
   "cell_type": "markdown",
   "metadata": {},
   "source": [
    "Next I did a Gradient Boosting Classifier which took all night to run. It is definitely overfitting the data (though not much worse than some of the other ones). I decided to see where the early stopping would put me, which was at 602. This makes the model much more runnable, but also not any better (actually quite a bit worse because of more over fitting) than the random forest, so I'll just stick with that. I also tried a faster running gridsearch using the early stopping. Didn't really fix the over fitting and it perfomed worse, so random forest it is!"
   ]
  },
  {
   "cell_type": "code",
   "execution_count": 289,
   "metadata": {},
   "outputs": [
    {
     "name": "stdout",
     "output_type": "stream",
     "text": [
      "Best Params: {'learning_rate': 0.1, 'max_depth': 3, 'n_estimators': 5000}\n",
      "Train F1: [1. 1. 1. 1.]\n",
      "Test Classification Report:\n",
      "              precision    recall  f1-score   support\n",
      "\n",
      "           1       0.89      0.85      0.87       141\n",
      "           2       0.89      0.84      0.86       314\n",
      "           3       0.86      0.81      0.84       242\n",
      "           4       0.94      0.97      0.96      1215\n",
      "\n",
      "   micro avg       0.92      0.92      0.92      1912\n",
      "   macro avg       0.90      0.87      0.88      1912\n",
      "weighted avg       0.92      0.92      0.92      1912\n",
      "\n",
      "Train Accuracy: 1.0\tTest accuracy: 0.9215481171548117\n"
     ]
    }
   ],
   "source": [
    "# GradientBoostingClassifier\n",
    "gridsearch = GridSearchCV(gbc, {\"n_estimators\": [100, 2000, 5000], \"max_depth\": [1, 2, 3], \n",
    "                                 \"learning_rate\": [.1, .01, .001]}, \n",
    "                          scoring='f1_micro', cv=3)\n",
    "gridsearch.fit(X_train, y_train)\n",
    "print(\"Best Params: {}\".format(gridsearch.best_params_))\n",
    "y_pred_train = gridsearch.predict(X_train)\n",
    "print(\"Train F1: {}\".format(f1_score(y_train, y_pred_train, average=None)))\n",
    "print(\"Test Classification Report:\")\n",
    "y_pred_test = gridsearch.predict(X_test)\n",
    "print(classification_report(y_test, y_pred_test))\n",
    "print(\"Train Accuracy: {}\\tTest accuracy: {}\".format(accuracy_score(y_train, y_pred_train),\n",
    "                                                     accuracy_score(y_test, y_pred_test)))"
   ]
  },
  {
   "cell_type": "code",
   "execution_count": 294,
   "metadata": {},
   "outputs": [
    {
     "name": "stdout",
     "output_type": "stream",
     "text": [
      "602\n"
     ]
    }
   ],
   "source": [
    "# early stopping\n",
    "gbcb = GradientBoostingClassifier(n_estimators= 5000, max_depth = 3, learning_rate = .1, \n",
    "                                  n_iter_no_change=5, random_state = 0)\n",
    "gbcb.fit(X_train, y_train)\n",
    "print(gbcb.n_estimators_)"
   ]
  },
  {
   "cell_type": "code",
   "execution_count": 296,
   "metadata": {},
   "outputs": [
    {
     "name": "stdout",
     "output_type": "stream",
     "text": [
      "Train F1: [0.91099476 0.87634855 0.81705151 0.94415132]\n",
      "Test Classification Report:\n",
      "              precision    recall  f1-score   support\n",
      "\n",
      "           1       0.81      0.70      0.75       141\n",
      "           2       0.81      0.66      0.73       314\n",
      "           3       0.79      0.50      0.61       242\n",
      "           4       0.85      0.96      0.90      1215\n",
      "\n",
      "   micro avg       0.83      0.83      0.83      1912\n",
      "   macro avg       0.81      0.70      0.75      1912\n",
      "weighted avg       0.83      0.83      0.82      1912\n",
      "\n",
      "Train Accuracy: 0.9169391759319817\tTest accuracy: 0.8331589958158996\n"
     ]
    }
   ],
   "source": [
    "gbcb = GradientBoostingClassifier(n_estimators= 602, max_depth = 3, learning_rate = .1, random_state = 0)\n",
    "gbcb.fit(X_train, y_train)\n",
    "feature_impg = sorted(list(zip(train_df, gbcb.feature_importances_)), key=lambda x: x[1], reverse=True)\n",
    "y_pred_train = gbcb.predict(X_train)\n",
    "print(\"Train F1: {}\".format(f1_score(y_train, y_pred_train, average=None)))\n",
    "print(\"Test Classification Report:\")\n",
    "y_pred_test = gbcb.predict(X_test)\n",
    "print(classification_report(y_test, y_pred_test))\n",
    "print(\"Train Accuracy: {}\\tTest accuracy: {}\".format(accuracy_score(y_train, y_pred_train),\n",
    "                                                     accuracy_score(y_test, y_pred_test)))"
   ]
  },
  {
   "cell_type": "code",
   "execution_count": 298,
   "metadata": {},
   "outputs": [
    {
     "name": "stdout",
     "output_type": "stream",
     "text": [
      "Best Params: {'learning_rate': 0.1, 'max_depth': 3, 'n_estimators': 500, 'n_iter_no_change': 5}\n",
      "Train F1: [0.88105727 0.840301   0.76799007 0.93153384]\n",
      "Test Classification Report:\n",
      "              precision    recall  f1-score   support\n",
      "\n",
      "           1       0.81      0.65      0.72       141\n",
      "           2       0.74      0.63      0.68       314\n",
      "           3       0.80      0.45      0.57       242\n",
      "           4       0.83      0.95      0.89      1215\n",
      "\n",
      "   micro avg       0.81      0.81      0.81      1912\n",
      "   macro avg       0.79      0.67      0.72      1912\n",
      "weighted avg       0.81      0.81      0.80      1912\n",
      "\n",
      "Train Accuracy: 0.8962720732504905\tTest accuracy: 0.8143305439330544\n"
     ]
    }
   ],
   "source": [
    "gridsearch = GridSearchCV(gbc, {\"n_estimators\": [100, 500, 1000], \"max_depth\": [1, 2, 3], \n",
    "                                 \"learning_rate\": [.1, .01, .001], \"n_iter_no_change\": [5]}, \n",
    "                          scoring='f1_micro', cv=3)\n",
    "gridsearch.fit(X_train, y_train)\n",
    "print(\"Best Params: {}\".format(gridsearch.best_params_))\n",
    "y_pred_train = gridsearch.predict(X_train)\n",
    "print(\"Train F1: {}\".format(f1_score(y_train, y_pred_train, average=None)))\n",
    "print(\"Test Classification Report:\")\n",
    "y_pred_test = gridsearch.predict(X_test)\n",
    "print(classification_report(y_test, y_pred_test))\n",
    "print(\"Train Accuracy: {}\\tTest accuracy: {}\".format(accuracy_score(y_train, y_pred_train),\n",
    "                                                     accuracy_score(y_test, y_pred_test)))"
   ]
  },
  {
   "cell_type": "markdown",
   "metadata": {},
   "source": [
    "## Use feature importances to select better data for the trees (reduce over fitting?)\n",
    "\n",
    "Basically, what I've found is that the best model (time taken vs overfitting vs predictions) is probably the random forest. It definitely does better at recall compared to the others, which gives it better F1 scores for each class even if the weighted average f1 is about the same as the others. So I'll use its features list to figure out what features are important and might be hihgly correlated, clean those up and run it through again.\n",
    "\n",
    "First I copied over some old functions I wrote (and then modified them slightly) so that I can take set of feature importances, extract out the most important ones and then graph them. "
   ]
  },
  {
   "cell_type": "code",
   "execution_count": 542,
   "metadata": {},
   "outputs": [
    {
     "data": {
      "image/png": "[encoded data removed]",
      "text/plain": [
       "<Figure size 432x288 with 1 Axes>"
      ]
     },
     "metadata": {},
     "output_type": "display_data"
    }
   ],
   "source": [
    "def key_extract(dic):\n",
    "    y = pd.DataFrame.from_dict(dic, orient='index') #turns the dictionary into a data frame\n",
    "    y = y.index # list of the names in the dataframe\n",
    "    return y\n",
    "\n",
    "def feature_extract(data_frame, feature_importances, sensitivity): # function to extract a list of features above a given sensitivty\n",
    "    coef_dict = dict((zip(data_frame, feature_importances))) #creates a dictionary from the model's feature importance\n",
    "    coef_list = {} # another dictionary\n",
    "    for key in coef_dict: # runs through the zipped dictionary \n",
    "        x = coef_dict.get(key) # extracts value for the key\n",
    "        if abs(x) > sensitivity:  # if the absolute value is bigger than the sensitivity\n",
    "            coef_list[key] = x # adds a new entry to the other dictionary \n",
    "        else: # if the coefficient isn't big enough\n",
    "            pass # move to the next key\n",
    "    coef_list = key_extract(coef_list) # uses a previous function I wrote to make a list of the names of those coeff\n",
    "    return coef_list # returns that list\n",
    "\n",
    "best_feature = feature_extract(train_df, rfcb.feature_importances_, .01)\n",
    "\n",
    "def best_feature_dict(list_, features_imp): #creates a dictionary from a list of tuples using another list of names\n",
    "    y = {}\n",
    "    for e in list_:\n",
    "        y[e] = dict(features_imp).get(e)\n",
    "    return y\n",
    "\n",
    "def best_feature_plot(list_, features_imp, ticks=90):\n",
    "    y = best_feature_dict(list_, features_imp)\n",
    "    plt.bar(y.keys(),y.values())\n",
    "    plt.title(\"Feature Importance\")\n",
    "    plt.xticks(rotation=ticks)\n",
    "    plt.ylabel(\"Percent Used\")\n",
    "    plt.grid(True)\n",
    "    \n",
    "best_feature_plot(best_feature, feature_imp_rfc)"
   ]
  },
  {
   "cell_type": "code",
   "execution_count": 543,
   "metadata": {},
   "outputs": [
    {
     "data": {
      "text/plain": [
       "<matplotlib.axes._subplots.AxesSubplot at 0x115b4c978>"
      ]
     },
     "execution_count": 543,
     "metadata": {},
     "output_type": "execute_result"
    },
    {
     "data": {
      "image/png": "[encoded data removed]",
      "text/plain": [
       "<Figure size 1008x864 with 2 Axes>"
      ]
     },
     "metadata": {},
     "output_type": "display_data"
    }
   ],
   "source": [
    "feature_corr = train_df[best_feature].corr()\n",
    "f , ax = plt.subplots(figsize = (14,12)) #Makes it bigger\n",
    "sns.heatmap(feature_corr)"
   ]
  },
  {
   "cell_type": "markdown",
   "metadata": {},
   "source": [
    "The most important feature is mean education, by a large margin. Things dealing with overcrowding and education in general seem to be very important. I'll extract out a slightly smaller set and then see what I can do there. Also, some other investigations that goes lost because I forgot to set a random state lead to some other highly correlated variables that should be dropped, which will be discussed below before I get to my actual set of important features."
   ]
  },
  {
   "cell_type": "code",
   "execution_count": 544,
   "metadata": {},
   "outputs": [
    {
     "name": "stdout",
     "output_type": "stream",
     "text": [
      "v2a1\n",
      "{}\n",
      "\n",
      "rooms\n",
      "{'r4t2': 0.3492056517496821, 'cielorazo': 0.31051339130775474, 'hogar_adul': 0.36748095357973, 'bedrooms': 0.804070227268258, 'overcrowding': -0.3823637769112192, 'qmobilephone': 0.4042783187355396}\n",
      "\n",
      "r4h2\n",
      "{'r4h3': 0.8213670000361185, 'r4t2': 0.7633289995289202, 'hogar_adul': 0.6598794096337883, 'bedrooms': 0.36058199167738514, 'qmobilephone': 0.4788857316928849}\n",
      "\n",
      "r4t1\n",
      "{'r4h3': 0.3308274003901886, 'r4m1': 0.7674606306900226, 'r4m3': 0.5279029284437117, 'escolari': -0.31032877221994887, 'hogar_nin': 0.7821778682997236, 'overcrowding': 0.5367644082408002, 'age': -0.42381784828999886}\n",
      "\n",
      "r4t2\n",
      "{'rooms': 0.3492056517496821, 'r4h2': 0.7633289995289202, 'r4h3': 0.6630128659696134, 'r4m2': 0.6963681561381009, 'r4m3': 0.5306373704079804, 'hogar_nin': 0.35431848600921984, 'hogar_adul': 0.8055262737240599, 'bedrooms': 0.45908787083876507, 'overcrowding': 0.3266761801905336, 'qmobilephone': 0.6439713589815415}\n",
      "\n",
      "hogar_nin\n",
      "{'r4h3': 0.46727502149034505, 'r4m1': 0.6022810486095257, 'r4m2': 0.3830135400530527, 'r4m3': 0.6420537028990817, 'r4t1': 0.7821778682997236, 'r4t2': 0.35431848600921984, 'overcrowding': 0.595887769927756, 'age': -0.4759766179082488}\n",
      "\n",
      "dependency\n",
      "{}\n",
      "\n",
      "edjefe\n",
      "{'edjefa': -0.6102384915515461, 'meaneduc': 0.4008625508794404}\n",
      "\n",
      "edjefa\n",
      "{'edjefe': -0.6102384915515461}\n",
      "\n",
      "meaneduc\n",
      "{'escolari': 0.520049509478467, 'cielorazo': 0.3203810492789241, 'edjefe': 0.4008625508794404}\n",
      "\n",
      "overcrowding\n",
      "{'rooms': -0.3823637769112192, 'r4h3': 0.4064040579576304, 'r4m1': 0.4052946705863685, 'r4m3': 0.4558855757190194, 'r4t1': 0.5367644082408002, 'r4t2': 0.3266761801905336, 'hogar_nin': 0.595887769927756, 'bedrooms': -0.3927361463805694, 'age': -0.3256168520927669}\n",
      "\n",
      "qmobilephone\n",
      "{'rooms': 0.4042783187355396, 'r4h2': 0.4788857316928849, 'r4h3': 0.42445007519704336, 'r4m2': 0.46252386285689, 'r4m3': 0.3729421079210808, 'r4t2': 0.6439713589815415, 'hogar_adul': 0.5443363418539039, 'bedrooms': 0.4798853560331522}\n",
      "\n"
     ]
    }
   ],
   "source": [
    "higher_sens = feature_extract(train_df, rfcb.feature_importances_, .02)\n",
    "\n",
    "i_corr_extract(higher_sens, feature_corr, .3)"
   ]
  },
  {
   "cell_type": "markdown",
   "metadata": {},
   "source": [
    "##### Things from the first go through that got lost:\n",
    "\n",
    "Obviously number of tablets is correlated with having a tablet or not, so I'll drop the dummy. 'hacdor' (overcrowding by bedroom) is correlated with regular overcrowding. I don't know which to drop yet, so I'll look at the data. 'hacdor' has stronger importance, but 'overcrowding' is not a dummy, which I like more. Looking at 'hacdor', this is an indicator of poorer households, which is fairly nice because my model does less good at predicting those. So I'll leave both in for now. Also looking at that row, 'tamhog' and 'hhsize' are obviously perfectly correlated (and 'r4t3' as well) so I'll look at these in more detail. Looking at the correlation confirms this, so I'll just drop both 'tamhog' and 'hhsize'. The number of females (or males) in a household isn't correlated by age, but it is obviously correlated with the total of X. So I'll drop both of the totals.\n",
    "\n",
    "##### Things from the second go through:\n",
    "\n",
    "I'm already dropping 'r4h3' and 'r4m3'. Since I'm leaving in 'r4t3' I might remove 'r4t1' and 'r4t2' (since this is captured by the gender separated variables anyway). 'hacdor' isn't in this set but 'bedrooms' are. Since overcrowding is important and rooms and bedrooms are highly correlated, I'll drop out 'bedrooms' but leave in 'hacdor'. The number of children is highly correlated with many variables, some of which I am removing. Number of adults is correlated with cellphones. I might just remove both, since these are captured (for the most part) by many of the variables still remaining. It makes sense the two gendered education variables are negatively correlated, being variables that contradict each other. While mean education is highly correlated with \"years in school\" one is household level and the other individual so I think I'll keep both. I thought not having a ceiling might be a predictor of being poor, but apparently this isn't the case, so I guess I'll keep that variable. "
   ]
  },
  {
   "cell_type": "code",
   "execution_count": 545,
   "metadata": {},
   "outputs": [
    {
     "data": {
      "image/png": "[encoded data removed]",
      "text/plain": [
       "<Figure size 432x288 with 1 Axes>"
      ]
     },
     "metadata": {},
     "output_type": "display_data"
    }
   ],
   "source": [
    "dicthac = dict(train_df.loc[train_df['hacdor'] == 1, 'Target'].value_counts())\n",
    "statusplot(dicthac, \"with bedroom overcrowding\")"
   ]
  },
  {
   "cell_type": "code",
   "execution_count": 546,
   "metadata": {},
   "outputs": [
    {
     "data": {
      "text/html": [
       "<div>\n",
       "<style scoped>\n",
       "    .dataframe tbody tr th:only-of-type {\n",
       "        vertical-align: middle;\n",
       "    }\n",
       "\n",
       "    .dataframe tbody tr th {\n",
       "        vertical-align: top;\n",
       "    }\n",
       "\n",
       "    .dataframe thead th {\n",
       "        text-align: right;\n",
       "    }\n",
       "</style>\n",
       "<table border=\"1\" class=\"dataframe\">\n",
       "  <thead>\n",
       "    <tr style=\"text-align: right;\">\n",
       "      <th></th>\n",
       "      <th>tamhog</th>\n",
       "      <th>hhsize</th>\n",
       "      <th>r4t3</th>\n",
       "      <th>hogar_total</th>\n",
       "    </tr>\n",
       "  </thead>\n",
       "  <tbody>\n",
       "    <tr>\n",
       "      <th>tamhog</th>\n",
       "      <td>1.000000</td>\n",
       "      <td>1.000000</td>\n",
       "      <td>0.998107</td>\n",
       "      <td>1.000000</td>\n",
       "    </tr>\n",
       "    <tr>\n",
       "      <th>hhsize</th>\n",
       "      <td>1.000000</td>\n",
       "      <td>1.000000</td>\n",
       "      <td>0.998107</td>\n",
       "      <td>1.000000</td>\n",
       "    </tr>\n",
       "    <tr>\n",
       "      <th>r4t3</th>\n",
       "      <td>0.998107</td>\n",
       "      <td>0.998107</td>\n",
       "      <td>1.000000</td>\n",
       "      <td>0.998107</td>\n",
       "    </tr>\n",
       "    <tr>\n",
       "      <th>hogar_total</th>\n",
       "      <td>1.000000</td>\n",
       "      <td>1.000000</td>\n",
       "      <td>0.998107</td>\n",
       "      <td>1.000000</td>\n",
       "    </tr>\n",
       "  </tbody>\n",
       "</table>\n",
       "</div>"
      ],
      "text/plain": [
       "               tamhog    hhsize      r4t3  hogar_total\n",
       "tamhog       1.000000  1.000000  0.998107     1.000000\n",
       "hhsize       1.000000  1.000000  0.998107     1.000000\n",
       "r4t3         0.998107  0.998107  1.000000     0.998107\n",
       "hogar_total  1.000000  1.000000  0.998107     1.000000"
      ]
     },
     "execution_count": 546,
     "metadata": {},
     "output_type": "execute_result"
    }
   ],
   "source": [
    "train_df[['tamhog','hhsize','r4t3', 'hogar_total']].corr() # are these correlated? they are "
   ]
  },
  {
   "cell_type": "code",
   "execution_count": 547,
   "metadata": {},
   "outputs": [
    {
     "data": {
      "image/png": "[encoded data removed]",
      "text/plain": [
       "<Figure size 432x288 with 1 Axes>"
      ]
     },
     "metadata": {},
     "output_type": "display_data"
    }
   ],
   "source": [
    "dictciel = dict(train_df.loc[train_df['cielorazo'] == 0, 'Target'].value_counts())\n",
    "statusplot(dictciel, \"with no ceiling\")"
   ]
  },
  {
   "cell_type": "code",
   "execution_count": 548,
   "metadata": {},
   "outputs": [],
   "source": [
    "droppables = ['v18q', 'tamhog', 'hhsize', 'r4m3', 'r4h3', 'r4t1', 'r4t2', 'bedrooms', 'hogar_nin', 'hogar_adul', \n",
    "             'hogar_total']\n",
    "\n",
    "dropped_train = train_df.drop(columns = droppables) #Gets rid of the columns I feel I don't need"
   ]
  },
  {
   "cell_type": "markdown",
   "metadata": {},
   "source": [
    "Now with this smaller variable list, I'll see how the random forest performs"
   ]
  },
  {
   "cell_type": "code",
   "execution_count": 611,
   "metadata": {},
   "outputs": [],
   "source": [
    "# new model\n",
    "scaler = StandardScaler()\n",
    "no_target2 = dropped_train.drop(columns = 'Target')\n",
    "scaler.fit(no_target2)\n",
    "scaled_df2 = scaler.transform(no_target2)"
   ]
  },
  {
   "cell_type": "code",
   "execution_count": 550,
   "metadata": {},
   "outputs": [],
   "source": [
    "X_train2, X_test2, y_train2, y_test2 = train_test_split(scaled_df2, target_train, test_size=.2, random_state = 11)"
   ]
  },
  {
   "cell_type": "code",
   "execution_count": 551,
   "metadata": {},
   "outputs": [
    {
     "name": "stdout",
     "output_type": "stream",
     "text": [
      "Train F1: [0.92801252 0.9313387  0.8868101  0.96061293]\n",
      "Test Classification Report:\n",
      "              precision    recall  f1-score   support\n",
      "\n",
      "           1       0.73      0.88      0.79       141\n",
      "           2       0.81      0.82      0.81       314\n",
      "           3       0.70      0.85      0.77       242\n",
      "           4       0.95      0.89      0.92      1215\n",
      "\n",
      "   micro avg       0.87      0.87      0.87      1912\n",
      "   macro avg       0.80      0.86      0.82      1912\n",
      "weighted avg       0.88      0.87      0.87      1912\n",
      "\n",
      "Train Accuracy: 0.9425768476128188\tTest accuracy: 0.8697698744769874\n"
     ]
    }
   ],
   "source": [
    "rfcb.fit(X_train2, y_train2)\n",
    "y_pred_train2 = rfcb.predict(X_train2)\n",
    "print(\"Train F1: {}\".format(f1_score(y_train2, y_pred_train2, average=None)))\n",
    "print(\"Test Classification Report:\")\n",
    "y_pred_test2 = rfcb.predict(X_test2)\n",
    "print(classification_report(y_test2, y_pred_test2))\n",
    "print(\"Train Accuracy: {}\\tTest accuracy: {}\".format(accuracy_score(y_train2, y_pred_train2),\n",
    "                                                     accuracy_score(y_test2, y_pred_test2)))"
   ]
  },
  {
   "cell_type": "code",
   "execution_count": 552,
   "metadata": {},
   "outputs": [
    {
     "data": {
      "image/png": "[encoded data removed]",
      "text/plain": [
       "<Figure size 432x288 with 1 Axes>"
      ]
     },
     "metadata": {},
     "output_type": "display_data"
    }
   ],
   "source": [
    "feature_imp_rfc2 = sorted(list(zip(dropped_train, rfcb.feature_importances_)), key=lambda x: x[1], reverse=True)\n",
    "best_feature_drop = feature_extract(dropped_train, rfcb.feature_importances_, .01)\n",
    "best_feature_plot(best_feature_drop, feature_imp_rfc2)"
   ]
  },
  {
   "cell_type": "markdown",
   "metadata": {},
   "source": [
    "##### old classification report for scale\n",
    "\n",
    "Train F1: [0.89581749 0.91353238 0.85043718 0.94546243]\n",
    "\n",
    "Test Classification Report:\n",
    "              precision    recall  f1-score   support\n",
    "\n",
    "           1       0.64      0.87      0.73       141\n",
    "           2       0.81      0.79      0.80       314\n",
    "           3       0.62      0.81      0.70       242\n",
    "           4       0.93      0.85      0.89      1215\n",
    "\n",
    "   micro avg       0.83      0.83      0.83      1912\n",
    "   \n",
    "   macro avg       0.75      0.83      0.78      1912\n",
    "   \n",
    "weighted avg       0.85      0.83      0.84      1912\n",
    "\n",
    "Train Accuracy: 0.9223021582733812\tTest accuracy: 0.8331589958158996\n",
    "\n",
    "\n",
    "\n",
    "Well, I improved slightly compared to the last random forest model and more importantly, I did better at improving my test accuracy than I did my train accuracy, so I guess I did something right. Unfortunately my train f1s are still much much better than my test, so overfitting is still an issue. The important features did mostly the same, so there is that as well. I'm going to try my overfitting nearest neighbors model as well with this slightly reduced data set but it will still probably be too overfitting (even if it performs better). "
   ]
  },
  {
   "cell_type": "code",
   "execution_count": 559,
   "metadata": {},
   "outputs": [
    {
     "name": "stdout",
     "output_type": "stream",
     "text": [
      "Train F1: [1. 1. 1. 1.]\n",
      "Test Classification Report:\n",
      "              precision    recall  f1-score   support\n",
      "\n",
      "           1       0.84      0.73      0.78       141\n",
      "           2       0.88      0.73      0.80       314\n",
      "           3       0.83      0.65      0.73       242\n",
      "           4       0.88      0.97      0.92      1215\n",
      "\n",
      "   micro avg       0.87      0.87      0.87      1912\n",
      "   macro avg       0.86      0.77      0.81      1912\n",
      "weighted avg       0.87      0.87      0.87      1912\n",
      "\n",
      "Train Accuracy: 1.0\tTest accuracy: 0.872907949790795\n"
     ]
    }
   ],
   "source": [
    "knnb = KNeighborsClassifier(n_neighbors=5, p=1, weights='distance')\n",
    "knnb.fit(X_train2, y_train2)\n",
    "y_pred_train2 = knnb.predict(X_train2)\n",
    "print(\"Train F1: {}\".format(f1_score(y_train2, y_pred_train2, average=None)))\n",
    "print(\"Test Classification Report:\")\n",
    "y_pred_test2 = knnb.predict(X_test2)\n",
    "print(classification_report(y_test2, y_pred_test2))\n",
    "print(\"Train Accuracy: {}\\tTest accuracy: {}\".format(accuracy_score(y_train2, y_pred_train2),\n",
    "                                                     accuracy_score(y_test2, y_pred_test2)))"
   ]
  },
  {
   "cell_type": "markdown",
   "metadata": {},
   "source": [
    "It does slightly worse than before (but better than the random forest if only looking at Test accuracy. When looking at the F1-scores, Random Forest does the same or better (especially for category 3), and has a slightly better macro average f1-score as well) while still overfitting the train data. I give up with this model, it makes no sense. I'll do a SVM too because those are my favorite. "
   ]
  },
  {
   "cell_type": "code",
   "execution_count": 564,
   "metadata": {},
   "outputs": [
    {
     "name": "stdout",
     "output_type": "stream",
     "text": [
      "Train F1: [1. 1. 1. 1.]\n",
      "Test Classification Report:\n",
      "              precision    recall  f1-score   support\n",
      "\n",
      "           1       0.77      0.77      0.77       141\n",
      "           2       0.73      0.77      0.75       314\n",
      "           3       0.75      0.64      0.69       242\n",
      "           4       0.90      0.92      0.91      1215\n",
      "\n",
      "   micro avg       0.85      0.85      0.85      1912\n",
      "   macro avg       0.79      0.77      0.78      1912\n",
      "weighted avg       0.85      0.85      0.85      1912\n",
      "\n",
      "Train Accuracy: 1.0\tTest accuracy: 0.8467573221757322\n"
     ]
    }
   ],
   "source": [
    "svmb = SVC(C=0.2, degree = 3, gamma = 1, kernel='poly')\n",
    "svmb.fit(X_train2, y_train2)\n",
    "y_pred_train2 = svmb.predict(X_train2)\n",
    "print(\"Train F1: {}\".format(f1_score(y_train2, y_pred_train2, average=None)))\n",
    "print(\"Test Classification Report:\")\n",
    "y_pred_test2 = svmb.predict(X_test2)\n",
    "print(classification_report(y_test2, y_pred_test2))\n",
    "print(\"Train Accuracy: {}\\tTest accuracy: {}\".format(accuracy_score(y_train2, y_pred_train2),\n",
    "                                                     accuracy_score(y_test2, y_pred_test2)))"
   ]
  },
  {
   "cell_type": "markdown",
   "metadata": {},
   "source": [
    "Technically did slightly better than the original SVM but still the inferior model overall. I'd try a gradient boost but I think my computer would kill me, it takes forever to do one. So overall, I've found that random forest works the best without overfitting (too much, it still is overfitting). This is evident not only in the average scores at the bottom but also that it predicts slightly better on each f1-score than KNN. It is interesting that random forest is better at recall, but the nearest neighbors model is more precise (except for group 4, the largest group, where it switches).  If I cared more, the next step would be more feature importances and analyses and then getting a better working gradient boost, but since we can't actually see how we do on the real test data, I don't really care. "
   ]
  },
  {
   "cell_type": "code",
   "execution_count": null,
   "metadata": {},
   "outputs": [],
   "source": []
  }
 ],
 "metadata": {
  "kernelspec": {
   "display_name": "Python 3",
   "language": "python",
   "name": "python3"
  },
  "language_info": {
   "codemirror_mode": {
    "name": "ipython",
    "version": 3
   },
   "file_extension": ".py",
   "mimetype": "text/x-python",
   "name": "python",
   "nbconvert_exporter": "python",
   "pygments_lexer": "ipython3",
   "version": "3.6.5"
  }
 },
 "nbformat": 4,
 "nbformat_minor": 2
}

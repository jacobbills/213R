{
 "cells": [
  {
   "cell_type": "code",
   "execution_count": 75,
   "metadata": {},
   "outputs": [],
   "source": [
    "import pandas as pd\n",
    "import numpy as np"
   ]
  },
  {
   "cell_type": "markdown",
   "metadata": {},
   "source": [
    "Create a list of each file that needs to be combined"
   ]
  },
  {
   "cell_type": "code",
   "execution_count": 76,
   "metadata": {},
   "outputs": [],
   "source": [
    "companies = [\"AXP\", \"BA\", \"CAT\", \"CSCO\", \"CVX\", \"DD\", \"DIS\", \"GE\", \"GS\", \"HD\", \"IBM\", \"INTC\", \n",
    "            \"JNJ\", \"JPM\", \"KO\", \"MCD\", \"MMM\", \"MRK\", \"MSFT\", \"NKE\", \"PFE\", \"PG\", \"T\", \"TRV\", \"UNH\",\n",
    "            \"UTX\", \"V\", \"VZ\", \"WMT\", \"XOM\"]"
   ]
  },
  {
   "cell_type": "code",
   "execution_count": 77,
   "metadata": {},
   "outputs": [],
   "source": [
    "def shifter(df,num, var):\n",
    "    df[var + str(num)] = df[var].shift(num) "
   ]
  },
  {
   "cell_type": "code",
   "execution_count": 78,
   "metadata": {},
   "outputs": [],
   "source": [
    "def list_shift(df, numbers, variables):\n",
    "    for e in variables:\n",
    "        for x in numbers:\n",
    "            shifter(df,x,e)"
   ]
  },
  {
   "cell_type": "code",
   "execution_count": 79,
   "metadata": {},
   "outputs": [],
   "source": [
    "vari = [\"NUM_NEG\", \"NUM_NEU\", 'NUM_POS', \"TW\", \"CLOSE\"]\n",
    "\n",
    "nums = [1,2,3]        "
   ]
  },
  {
   "cell_type": "code",
   "execution_count": 80,
   "metadata": {},
   "outputs": [],
   "source": [
    "def reader(interest, numbers, variables):\n",
    "    s = str(interest)\n",
    "    a = pd.read_csv(\"/Users/jacobbills/Desktop/Economics/Twitter_sentiment_DJIA30/financial_data_\" +s + \".csv\")\n",
    "    b = pd.read_csv(\"/Users/jacobbills/Desktop/Economics/Twitter_sentiment_DJIA30/twitter_data_\" +s + \".csv\")\n",
    "    c = a.merge(b, how='right', sort=True)\n",
    "    c['weekend'] = c['HIGH']\n",
    "    c['weekend'].fillna(1, inplace=True)\n",
    "    for i in range(len(c['weekend'])):\n",
    "        if c.loc[i,'weekend']>1:\n",
    "            c.loc[i,'weekend'] = 0\n",
    "        else:\n",
    "            c.loc[i,'weekend'] = 1\n",
    "    c.fillna(method='ffill', inplace=True)\n",
    "    list_shift(c, numbers, variables)\n",
    "    c.dropna(inplace=True)\n",
    "    c[s] = 1\n",
    "    return c"
   ]
  },
  {
   "cell_type": "code",
   "execution_count": 81,
   "metadata": {},
   "outputs": [],
   "source": [
    "def read_dict(li, num, variables):\n",
    "    count = 0\n",
    "    y = {}\n",
    "    for e in li: \n",
    "        y[count] = reader(e,num, variables)\n",
    "        count += 1\n",
    "    return y"
   ]
  },
  {
   "cell_type": "code",
   "execution_count": 82,
   "metadata": {},
   "outputs": [],
   "source": [
    "def dict_concat(dic, rang):\n",
    "    count = 0\n",
    "    x = dic[0]\n",
    "    for r in range(rang):\n",
    "        x = pd.concat([x, dic[r]], ignore_index=True, sort=False)\n",
    "    return x"
   ]
  },
  {
   "cell_type": "code",
   "execution_count": 83,
   "metadata": {},
   "outputs": [],
   "source": [
    "def complete_csv_reader(lis, nums, var, rang, title):\n",
    "    a = read_dict(lis, nums, var)\n",
    "    x = dict_concat(a, rang)\n",
    "    x = x.fillna(0)\n",
    "    x.to_csv(title +\".csv\")\n",
    "    return x"
   ]
  },
  {
   "cell_type": "code",
   "execution_count": 84,
   "metadata": {},
   "outputs": [],
   "source": [
    "test = complete_csv_reader(companies, nums, vari, 30, \"Combined_stocks\")"
   ]
  },
  {
   "cell_type": "code",
   "execution_count": 86,
   "metadata": {},
   "outputs": [
    {
     "name": "stdout",
     "output_type": "stream",
     "text": [
      "<class 'pandas.core.frame.DataFrame'>\n",
      "RangeIndex: 14654 entries, 0 to 14653\n",
      "Data columns (total 55 columns):\n",
      "Unnamed: 0    14654 non-null object\n",
      "HIGH          14654 non-null float64\n",
      "CLOSE         14654 non-null float64\n",
      "OPEN          14654 non-null float64\n",
      "LOW           14654 non-null float64\n",
      "NUM_NEG       14654 non-null float64\n",
      "NUM_NEU       14654 non-null float64\n",
      "NUM_POS       14654 non-null float64\n",
      "TW            14654 non-null float64\n",
      "weekend       14654 non-null float64\n",
      "NUM_NEG1      14654 non-null float64\n",
      "NUM_NEG2      14654 non-null float64\n",
      "NUM_NEG3      14654 non-null float64\n",
      "NUM_NEU1      14654 non-null float64\n",
      "NUM_NEU2      14654 non-null float64\n",
      "NUM_NEU3      14654 non-null float64\n",
      "NUM_POS1      14654 non-null float64\n",
      "NUM_POS2      14654 non-null float64\n",
      "NUM_POS3      14654 non-null float64\n",
      "TW1           14654 non-null float64\n",
      "TW2           14654 non-null float64\n",
      "TW3           14654 non-null float64\n",
      "CLOSE1        14654 non-null float64\n",
      "CLOSE2        14654 non-null float64\n",
      "CLOSE3        14654 non-null float64\n",
      "AXP           14654 non-null float64\n",
      "BA            14654 non-null float64\n",
      "CAT           14654 non-null float64\n",
      "CSCO          14654 non-null float64\n",
      "CVX           14654 non-null float64\n",
      "DD            14654 non-null float64\n",
      "DIS           14654 non-null float64\n",
      "GE            14654 non-null float64\n",
      "GS            14654 non-null float64\n",
      "HD            14654 non-null float64\n",
      "IBM           14654 non-null float64\n",
      "INTC          14654 non-null float64\n",
      "JNJ           14654 non-null float64\n",
      "JPM           14654 non-null float64\n",
      "KO            14654 non-null float64\n",
      "MCD           14654 non-null float64\n",
      "MMM           14654 non-null float64\n",
      "MRK           14654 non-null float64\n",
      "MSFT          14654 non-null float64\n",
      "NKE           14654 non-null float64\n",
      "PFE           14654 non-null float64\n",
      "PG            14654 non-null float64\n",
      "T             14654 non-null float64\n",
      "TRV           14654 non-null float64\n",
      "UNH           14654 non-null float64\n",
      "UTX           14654 non-null float64\n",
      "V             14654 non-null float64\n",
      "VZ            14654 non-null float64\n",
      "WMT           14654 non-null float64\n",
      "XOM           14654 non-null float64\n",
      "dtypes: float64(54), object(1)\n",
      "memory usage: 6.1+ MB\n"
     ]
    }
   ],
   "source": [
    "test.info()"
   ]
  },
  {
   "cell_type": "code",
   "execution_count": null,
   "metadata": {},
   "outputs": [],
   "source": []
  },
  {
   "cell_type": "code",
   "execution_count": null,
   "metadata": {},
   "outputs": [],
   "source": []
  },
  {
   "cell_type": "code",
   "execution_count": 71,
   "metadata": {},
   "outputs": [],
   "source": []
  },
  {
   "cell_type": "code",
   "execution_count": null,
   "metadata": {},
   "outputs": [],
   "source": []
  },
  {
   "cell_type": "code",
   "execution_count": 53,
   "metadata": {},
   "outputs": [
    {
     "data": {
      "text/plain": [
       "476"
      ]
     },
     "execution_count": 53,
     "metadata": {},
     "output_type": "execute_result"
    }
   ],
   "source": []
  },
  {
   "cell_type": "code",
   "execution_count": null,
   "metadata": {},
   "outputs": [],
   "source": []
  }
 ],
 "metadata": {
  "kernelspec": {
   "display_name": "Python 3",
   "language": "python",
   "name": "python3"
  },
  "language_info": {
   "codemirror_mode": {
    "name": "ipython",
    "version": 3
   },
   "file_extension": ".py",
   "mimetype": "text/x-python",
   "name": "python",
   "nbconvert_exporter": "python",
   "pygments_lexer": "ipython3",
   "version": "3.6.5"
  }
 },
 "nbformat": 4,
 "nbformat_minor": 2
}

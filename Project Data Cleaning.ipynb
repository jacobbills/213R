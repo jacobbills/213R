{
 "cells": [
  {
   "cell_type": "code",
   "execution_count": 9,
   "metadata": {},
   "outputs": [],
   "source": [
    "import pandas as pd\n",
    "import numpy as np"
   ]
  },
  {
   "cell_type": "markdown",
   "metadata": {},
   "source": [
    "Create a list of each file that needs to be combined"
   ]
  },
  {
   "cell_type": "code",
   "execution_count": 10,
   "metadata": {},
   "outputs": [],
   "source": [
    "companies = [\"AXP\", \"BA\", \"CAT\", \"CSCO\", \"CVX\", \"DD\", \"DIS\", \"GE\", \"GS\", \"HD\", \"IBM\", \"INTC\", \n",
    "            \"JNJ\", \"JPM\", \"KO\", \"MCD\", \"MMM\", \"MRK\", \"MSFT\", \"NKE\", \"PFE\", \"PG\", \"T\", \"TRV\", \"UNH\",\n",
    "            \"UTX\", \"V\", \"VZ\", \"WMT\", \"XOM\"]"
   ]
  },
  {
   "cell_type": "code",
   "execution_count": 11,
   "metadata": {},
   "outputs": [],
   "source": [
    "def shifter(df,num, var):\n",
    "    df[var + str(num)] = df[var].shift(num) "
   ]
  },
  {
   "cell_type": "code",
   "execution_count": 12,
   "metadata": {},
   "outputs": [],
   "source": [
    "def list_shift(df, numbers, variables):\n",
    "    for e in variables:\n",
    "        for x in numbers:\n",
    "            shifter(df,x,e)"
   ]
  },
  {
   "cell_type": "code",
   "execution_count": 13,
   "metadata": {},
   "outputs": [],
   "source": [
    "vari = [\"NUM_NEG\", \"NUM_NEU\", 'NUM_POS', \"TW\", \"CLOSE\"]\n",
    "\n",
    "nums = [1,2,3]        "
   ]
  },
  {
   "cell_type": "code",
   "execution_count": 14,
   "metadata": {},
   "outputs": [],
   "source": [
    "def reader(interest, numbers, variables):\n",
    "    s = str(interest)\n",
    "    a = pd.read_csv(\"/Users/jacobbills/Desktop/Economics/Twitter_sentiment_DJIA30/financial_data_\" +s + \".csv\")\n",
    "    b = pd.read_csv(\"/Users/jacobbills/Desktop/Economics/Twitter_sentiment_DJIA30/twitter_data_\" +s + \".csv\")\n",
    "    c = a.merge(b, how='right', sort=True)\n",
    "    c['weekend'] = c['HIGH']\n",
    "    c['weekend'].fillna(1, inplace=True)\n",
    "    for i in range(len(c['weekend'])):\n",
    "        if c.loc[i,'weekend']>1:\n",
    "            c.loc[i,'weekend'] = 0\n",
    "        else:\n",
    "            c.loc[i,'weekend'] = 1\n",
    "    c.fillna(method='ffill', inplace=True)\n",
    "    list_shift(c, numbers, variables)\n",
    "    c.dropna(inplace=True)\n",
    "    c[s] = 1\n",
    "    return c"
   ]
  },
  {
   "cell_type": "code",
   "execution_count": 15,
   "metadata": {},
   "outputs": [],
   "source": [
    "def read_dict(li, num, variables):\n",
    "    count = 0\n",
    "    y = {}\n",
    "    for e in li: \n",
    "        y[count] = reader(e,num, variables)\n",
    "        count += 1\n",
    "    return y"
   ]
  },
  {
   "cell_type": "code",
   "execution_count": 30,
   "metadata": {},
   "outputs": [],
   "source": [
    "def dict_concat(dic, rang):\n",
    "    x = dic[0]\n",
    "    for r in range(rang):\n",
    "        r= r+1\n",
    "        x = pd.concat([x, dic[r]], ignore_index=True, sort=False)\n",
    "    return x"
   ]
  },
  {
   "cell_type": "code",
   "execution_count": 17,
   "metadata": {},
   "outputs": [],
   "source": [
    "def complete_csv_reader(lis, nums, var, rang, title):\n",
    "    a = read_dict(lis, nums, var)\n",
    "    x = dict_concat(a, rang)\n",
    "    x = x.fillna(0)\n",
    "    x.to_csv(title +\".csv\")\n",
    "    return x"
   ]
  },
  {
   "cell_type": "code",
   "execution_count": 31,
   "metadata": {},
   "outputs": [],
   "source": [
    "test = complete_csv_reader(companies, nums, vari, 29, \"Combined_stocks\")"
   ]
  },
  {
   "cell_type": "code",
   "execution_count": null,
   "metadata": {},
   "outputs": [],
   "source": []
  },
  {
   "cell_type": "code",
   "execution_count": null,
   "metadata": {},
   "outputs": [],
   "source": []
  },
  {
   "cell_type": "code",
   "execution_count": null,
   "metadata": {},
   "outputs": [],
   "source": []
  },
  {
   "cell_type": "code",
   "execution_count": 71,
   "metadata": {},
   "outputs": [],
   "source": []
  },
  {
   "cell_type": "code",
   "execution_count": null,
   "metadata": {},
   "outputs": [],
   "source": []
  },
  {
   "cell_type": "code",
   "execution_count": 53,
   "metadata": {},
   "outputs": [
    {
     "data": {
      "text/plain": [
       "476"
      ]
     },
     "execution_count": 53,
     "metadata": {},
     "output_type": "execute_result"
    }
   ],
   "source": []
  },
  {
   "cell_type": "code",
   "execution_count": null,
   "metadata": {},
   "outputs": [],
   "source": []
  }
 ],
 "metadata": {
  "kernelspec": {
   "display_name": "Python 3",
   "language": "python",
   "name": "python3"
  },
  "language_info": {
   "codemirror_mode": {
    "name": "ipython",
    "version": 3
   },
   "file_extension": ".py",
   "mimetype": "text/x-python",
   "name": "python",
   "nbconvert_exporter": "python",
   "pygments_lexer": "ipython3",
   "version": "3.6.5"
  }
 },
 "nbformat": 4,
 "nbformat_minor": 2
}

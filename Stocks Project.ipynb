{
 "cells": [
  {
   "cell_type": "code",
   "execution_count": 33,
   "metadata": {},
   "outputs": [],
   "source": [
    "import numpy as np\n",
    "import pandas as pd\n",
    "import matplotlib.pyplot as plt\n",
    "%matplotlib inline\n",
    "import seaborn as sns\n",
    "from sklearn.linear_model import SGDRegressor\n",
    "from sklearn.metrics import mean_squared_error\n",
    "from sklearn.preprocessing import StandardScaler\n",
    "from sklearn.preprocessing import PolynomialFeatures\n",
    "from sklearn.utils import resample\n",
    "from sklearn.model_selection import train_test_split\n",
    "from sklearn.model_selection import RandomizedSearchCV\n",
    "from sklearn.linear_model import SGDRegressor\n",
    "from sklearn.linear_model import ElasticNetCV"
   ]
  },
  {
   "cell_type": "code",
   "execution_count": 2,
   "metadata": {},
   "outputs": [],
   "source": [
    "data = pd.read_csv(\"/Users/jacobbills/Desktop/Economics/Twitter_sentiment_DJIA30/Combined_stocks.csv\")"
   ]
  },
  {
   "cell_type": "markdown",
   "metadata": {},
   "source": [
    "Let's make some percents for the different sentiment scores"
   ]
  },
  {
   "cell_type": "code",
   "execution_count": 5,
   "metadata": {},
   "outputs": [
    {
     "name": "stdout",
     "output_type": "stream",
     "text": [
      "<class 'pandas.core.frame.DataFrame'>\n",
      "RangeIndex: 10130 entries, 0 to 10129\n",
      "Data columns (total 48 columns):\n",
      "Unnamed: 0    10130 non-null int64\n",
      "AXP           10130 non-null int64\n",
      "BA            10130 non-null int64\n",
      "CAT           10130 non-null int64\n",
      "CLOSE         10130 non-null float64\n",
      "CSCO          10130 non-null int64\n",
      "CVX           10130 non-null int64\n",
      "DD            10130 non-null int64\n",
      "DIS           10130 non-null int64\n",
      "GE            10130 non-null int64\n",
      "GS            10130 non-null int64\n",
      "HD            10130 non-null int64\n",
      "HIGH          10130 non-null float64\n",
      "IBM           10130 non-null int64\n",
      "INTC          10130 non-null int64\n",
      "JNJ           10130 non-null int64\n",
      "JPM           10130 non-null int64\n",
      "KO            10130 non-null int64\n",
      "LOW           10130 non-null float64\n",
      "MCD           10130 non-null int64\n",
      "MMM           10130 non-null int64\n",
      "MRK           10130 non-null int64\n",
      "MSFT          10130 non-null int64\n",
      "NKE           10130 non-null int64\n",
      "NUM_NEG       10130 non-null int64\n",
      "NUM_NEG1      10130 non-null int64\n",
      "NUM_NEG2      10130 non-null int64\n",
      "NUM_NEU       10130 non-null int64\n",
      "NUM_NEU1      10130 non-null int64\n",
      "NUM_NEU2      10130 non-null int64\n",
      "NUM_POS       10130 non-null int64\n",
      "NUM_POS1      10130 non-null int64\n",
      "NUM_POS2      10130 non-null int64\n",
      "OPEN          10130 non-null float64\n",
      "PFE           10130 non-null int64\n",
      "PG            10130 non-null int64\n",
      "T             10130 non-null int64\n",
      "TRV           10130 non-null int64\n",
      "TW            10130 non-null int64\n",
      "TW1           10130 non-null int64\n",
      "TW2           10130 non-null int64\n",
      "UNH           10130 non-null int64\n",
      "UTX           10130 non-null int64\n",
      "Date          10130 non-null object\n",
      "V             10130 non-null int64\n",
      "VZ            10130 non-null int64\n",
      "WMT           10130 non-null int64\n",
      "XOM           10130 non-null int64\n",
      "dtypes: float64(4), int64(43), object(1)\n",
      "memory usage: 3.7+ MB\n"
     ]
    }
   ],
   "source": [
    "data.info()"
   ]
  },
  {
   "cell_type": "code",
   "execution_count": 6,
   "metadata": {},
   "outputs": [],
   "source": [
    "data['NUM_NEG_PER'] = data['NUM_NEG']/data['TW']"
   ]
  },
  {
   "cell_type": "code",
   "execution_count": 10,
   "metadata": {},
   "outputs": [],
   "source": [
    "sentiments = ['NUM_NEG', 'NUM_NEG1', 'NUM_NEG2','NUM_NEU','NUM_NEU1','NUM_NEU2','NUM_POS','NUM_POS1','NUM_POS2']\n",
    "for e in sentiments:\n",
    "    if e.endswith(\"1\"):\n",
    "        data[e+\"_PER\"] = data[e]/data['TW1']\n",
    "    elif e.endswith(\"2\"):\n",
    "        data[e+\"_PER\"] = data[e]/data['TW2']\n",
    "    else:\n",
    "        data[e+\"_PER\"] = data[e]/data['TW']"
   ]
  },
  {
   "cell_type": "code",
   "execution_count": 14,
   "metadata": {},
   "outputs": [],
   "source": [
    "target = data.CLOSE\n",
    "high = data.HIGH\n",
    "low = data.LOW"
   ]
  },
  {
   "cell_type": "code",
   "execution_count": 79,
   "metadata": {},
   "outputs": [],
   "source": [
    "data1 = data.drop(columns=['CLOSE', 'HIGH', 'LOW', 'Unnamed: 0'])"
   ]
  },
  {
   "cell_type": "code",
   "execution_count": 80,
   "metadata": {},
   "outputs": [],
   "source": [
    "data_dummies = pd.get_dummies(data1)"
   ]
  },
  {
   "cell_type": "code",
   "execution_count": 81,
   "metadata": {},
   "outputs": [],
   "source": [
    "data_nodate = data1.drop(columns='Date')"
   ]
  },
  {
   "cell_type": "code",
   "execution_count": 94,
   "metadata": {},
   "outputs": [],
   "source": [
    "data_prev = data_nodate.drop(columns=['NUM_NEG', 'NUM_NEU', 'NUM_POS', 'NUM_NEG_PER', 'NUM_NEU_PER', 'NUM_POS_PER'])"
   ]
  },
  {
   "cell_type": "code",
   "execution_count": 99,
   "metadata": {},
   "outputs": [],
   "source": [
    "data_nopen = data_dummies.drop(columns='OPEN')\n",
    "data_nopen_date = data_nodate.drop(columns='OPEN')\n",
    "data_nopen_prev = data_prev.drop(columns='OPEN')"
   ]
  },
  {
   "cell_type": "code",
   "execution_count": 83,
   "metadata": {},
   "outputs": [
    {
     "data": {
      "text/plain": [
       "Index(['NUM_NEG_PER', 'NUM_NEG1_PER', 'NUM_NEG2_PER', 'NUM_NEU_PER',\n",
       "       'NUM_NEU1_PER', 'NUM_NEU2_PER', 'NUM_POS_PER', 'NUM_POS1_PER',\n",
       "       'NUM_POS2_PER'],\n",
       "      dtype='object')"
      ]
     },
     "execution_count": 83,
     "metadata": {},
     "output_type": "execute_result"
    }
   ],
   "source": [
    "is_null = data_dummies.columns[data_dummies.isnull().any()]\n",
    "is_null"
   ]
  },
  {
   "cell_type": "code",
   "execution_count": 84,
   "metadata": {},
   "outputs": [
    {
     "name": "stdout",
     "output_type": "stream",
     "text": [
      "<class 'pandas.core.frame.DataFrame'>\n",
      "RangeIndex: 10130 entries, 0 to 10129\n",
      "Data columns (total 9 columns):\n",
      "NUM_NEG_PER     10129 non-null float64\n",
      "NUM_NEG1_PER    10128 non-null float64\n",
      "NUM_NEG2_PER    10128 non-null float64\n",
      "NUM_NEU_PER     10129 non-null float64\n",
      "NUM_NEU1_PER    10128 non-null float64\n",
      "NUM_NEU2_PER    10128 non-null float64\n",
      "NUM_POS_PER     10129 non-null float64\n",
      "NUM_POS1_PER    10128 non-null float64\n",
      "NUM_POS2_PER    10128 non-null float64\n",
      "dtypes: float64(9)\n",
      "memory usage: 712.3 KB\n"
     ]
    }
   ],
   "source": [
    "data_dummies[is_null].info()"
   ]
  },
  {
   "cell_type": "code",
   "execution_count": 85,
   "metadata": {},
   "outputs": [],
   "source": [
    "for e in is_null:\n",
    "    data_dummies[e].fillna(data_dummies[e].mean(), inplace=True)\n",
    "    data_nodate[e].fillna(data_nodate[e].mean(), inplace=True)\n",
    "    data_prev[e].fillna(data_prev[e].mean(), inplace=True)"
   ]
  },
  {
   "cell_type": "markdown",
   "metadata": {},
   "source": [
    "Now that the data is clean, we can try to run some different models on it"
   ]
  },
  {
   "cell_type": "code",
   "execution_count": 95,
   "metadata": {},
   "outputs": [
    {
     "name": "stderr",
     "output_type": "stream",
     "text": [
      "/Users/jacobbills/Desktop/python/anaconda3/lib/python3.6/site-packages/sklearn/preprocessing/data.py:617: DataConversionWarning: Data with input dtype uint8, int64, float64 were all converted to float64 by StandardScaler.\n",
      "  return self.partial_fit(X, y)\n",
      "/Users/jacobbills/Desktop/python/anaconda3/lib/python3.6/site-packages/ipykernel_launcher.py:3: DataConversionWarning: Data with input dtype uint8, int64, float64 were all converted to float64 by StandardScaler.\n",
      "  This is separate from the ipykernel package so we can avoid doing imports until\n",
      "/Users/jacobbills/Desktop/python/anaconda3/lib/python3.6/site-packages/sklearn/preprocessing/data.py:617: DataConversionWarning: Data with input dtype int64, float64 were all converted to float64 by StandardScaler.\n",
      "  return self.partial_fit(X, y)\n",
      "/Users/jacobbills/Desktop/python/anaconda3/lib/python3.6/site-packages/ipykernel_launcher.py:6: DataConversionWarning: Data with input dtype int64, float64 were all converted to float64 by StandardScaler.\n",
      "  \n",
      "/Users/jacobbills/Desktop/python/anaconda3/lib/python3.6/site-packages/sklearn/preprocessing/data.py:617: DataConversionWarning: Data with input dtype int64, float64 were all converted to float64 by StandardScaler.\n",
      "  return self.partial_fit(X, y)\n",
      "/Users/jacobbills/Desktop/python/anaconda3/lib/python3.6/site-packages/ipykernel_launcher.py:9: DataConversionWarning: Data with input dtype int64, float64 were all converted to float64 by StandardScaler.\n",
      "  if __name__ == '__main__':\n"
     ]
    }
   ],
   "source": [
    "scaler = StandardScaler()\n",
    "scaler.fit(data_dummies)\n",
    "scaled_df = scaler.transform(data_dummies)\n",
    "\n",
    "scaler.fit(data_nodate)\n",
    "scaled_df_no = scaler.transform(data_nodate)\n",
    "\n",
    "scaler.fit(data_prev)\n",
    "scaled_prev = scaler.transform(data_prev)"
   ]
  },
  {
   "cell_type": "code",
   "execution_count": 96,
   "metadata": {},
   "outputs": [],
   "source": [
    "X_train, X_test, y_train, y_test = train_test_split(scaled_df, target, test_size=.2, random_state = 11)\n",
    "X_train1, X_test1, y_train1, y_test1 = train_test_split(scaled_df_no, target, test_size=.2, random_state = 11)\n",
    "X_train2, X_test2, y_train2, y_test2 = train_test_split(scaled_prev, target, test_size=.2, random_state = 11)"
   ]
  },
  {
   "cell_type": "code",
   "execution_count": 88,
   "metadata": {},
   "outputs": [
    {
     "name": "stdout",
     "output_type": "stream",
     "text": [
      "Train MSE: 0.6949741316371656\n",
      "Test MSE: 0.6221862168659308\n"
     ]
    }
   ],
   "source": [
    "clf = ElasticNetCV(l1_ratio=[.1, .3, .5, .7, .8, .9, .95, .99, 1], alphas= [.1, 1, 5, 10], cv=5) #basic Elastic Net with CV\n",
    "clf.fit(X_train, y_train)\n",
    "train_predictions = clf.predict(X_train)\n",
    "test_predictions = clf.predict(X_test)\n",
    "print(\"Train MSE: {}\".format(mean_squared_error(y_train, train_predictions)))\n",
    "print(\"Test MSE: {}\".format(mean_squared_error(y_test, test_predictions)))"
   ]
  },
  {
   "cell_type": "code",
   "execution_count": 61,
   "metadata": {},
   "outputs": [],
   "source": [
    "## I took this from their website, why isn't this a normal thing you can import? \n",
    "\n",
    "from sklearn.naive_bayes import GaussianNB\n",
    "from sklearn.svm import SVC\n",
    "from sklearn.datasets import load_digits\n",
    "from sklearn.model_selection import learning_curve\n",
    "from sklearn.model_selection import ShuffleSplit\n",
    "\n",
    "\n",
    "def plot_learning_curve(estimator, title, X, y, ylim=None, cv=None,\n",
    "                        n_jobs=None, train_sizes=np.linspace(.1, 1.0, 5)):\n",
    "    \"\"\"\n",
    "    Generate a simple plot of the test and training learning curve.\n",
    "\n",
    "    Parameters\n",
    "    ----------\n",
    "    estimator : object type that implements the \"fit\" and \"predict\" methods\n",
    "        An object of that type which is cloned for each validation.\n",
    "\n",
    "    title : string\n",
    "        Title for the chart.\n",
    "\n",
    "    X : array-like, shape (n_samples, n_features)\n",
    "        Training vector, where n_samples is the number of samples and\n",
    "        n_features is the number of features.\n",
    "\n",
    "    y : array-like, shape (n_samples) or (n_samples, n_features), optional\n",
    "        Target relative to X for classification or regression;\n",
    "        None for unsupervised learning.\n",
    "\n",
    "    ylim : tuple, shape (ymin, ymax), optional\n",
    "        Defines minimum and maximum yvalues plotted.\n",
    "\n",
    "    cv : int, cross-validation generator or an iterable, optional\n",
    "        Determines the cross-validation splitting strategy.\n",
    "        Possible inputs for cv are:\n",
    "          - None, to use the default 3-fold cross-validation,\n",
    "          - integer, to specify the number of folds.\n",
    "          - An object to be used as a cross-validation generator.\n",
    "          - An iterable yielding train/test splits.\n",
    "\n",
    "        For integer/None inputs, if ``y`` is binary or multiclass,\n",
    "        :class:`StratifiedKFold` used. If the estimator is not a classifier\n",
    "        or if ``y`` is neither binary nor multiclass, :class:`KFold` is used.\n",
    "\n",
    "        Refer :ref:`User Guide <cross_validation>` for the various\n",
    "        cross-validators that can be used here.\n",
    "\n",
    "    n_jobs : int or None, optional (default=None)\n",
    "        Number of jobs to run in parallel.\n",
    "        ``None`` means 1 unless in a :obj:`joblib.parallel_backend` context.\n",
    "        ``-1`` means using all processors. See :term:`Glossary <n_jobs>`\n",
    "        for more details.\n",
    "\n",
    "    train_sizes : array-like, shape (n_ticks,), dtype float or int\n",
    "        Relative or absolute numbers of training examples that will be used to\n",
    "        generate the learning curve. If the dtype is float, it is regarded as a\n",
    "        fraction of the maximum size of the training set (that is determined\n",
    "        by the selected validation method), i.e. it has to be within (0, 1].\n",
    "        Otherwise it is interpreted as absolute sizes of the training sets.\n",
    "        Note that for classification the number of samples usually have to\n",
    "        be big enough to contain at least one sample from each class.\n",
    "        (default: np.linspace(0.1, 1.0, 5))\n",
    "    \"\"\"\n",
    "    plt.figure()\n",
    "    plt.title(title)\n",
    "    if ylim is not None:\n",
    "        plt.ylim(*ylim)\n",
    "    plt.xlabel(\"Training examples\")\n",
    "    plt.ylabel(\"Score\")\n",
    "    train_sizes, train_scores, test_scores = learning_curve(\n",
    "        estimator, X, y, cv=cv, n_jobs=n_jobs, train_sizes=train_sizes)\n",
    "    train_scores_mean = np.mean(train_scores, axis=1)\n",
    "    train_scores_std = np.std(train_scores, axis=1)\n",
    "    test_scores_mean = np.mean(test_scores, axis=1)\n",
    "    test_scores_std = np.std(test_scores, axis=1)\n",
    "    plt.grid()\n",
    "\n",
    "    plt.fill_between(train_sizes, train_scores_mean - train_scores_std,\n",
    "                     train_scores_mean + train_scores_std, alpha=0.1,\n",
    "                     color=\"r\")\n",
    "    plt.fill_between(train_sizes, test_scores_mean - test_scores_std,\n",
    "                     test_scores_mean + test_scores_std, alpha=0.1, color=\"g\")\n",
    "    plt.plot(train_sizes, train_scores_mean, 'o-', color=\"r\",\n",
    "             label=\"Training score\")\n",
    "    plt.plot(train_sizes, test_scores_mean, 'o-', color=\"g\",\n",
    "             label=\"Cross-validation score\")\n",
    "\n",
    "    plt.legend(loc=\"best\")\n",
    "    return plt"
   ]
  },
  {
   "cell_type": "code",
   "execution_count": 62,
   "metadata": {},
   "outputs": [
    {
     "data": {
      "text/plain": [
       "<module 'matplotlib.pyplot' from '/Users/jacobbills/Desktop/python/anaconda3/lib/python3.6/site-packages/matplotlib/pyplot.py'>"
      ]
     },
     "execution_count": 62,
     "metadata": {},
     "output_type": "execute_result"
    },
    {
     "data": {
      "image/png": "[encoded data removed]",
      "text/plain": [
       "<Figure size 432x288 with 1 Axes>"
      ]
     },
     "metadata": {},
     "output_type": "display_data"
    }
   ],
   "source": [
    "plot_learning_curve(clf, \"Learning Curve\", X_train, y_train, cv=5)"
   ]
  },
  {
   "cell_type": "code",
   "execution_count": 89,
   "metadata": {},
   "outputs": [
    {
     "data": {
      "text/plain": [
       "[('AXP', -0.0),\n",
       " ('BA', 0.0),\n",
       " ('CAT', 0.0),\n",
       " ('CSCO', -0.0),\n",
       " ('CVX', 0.0),\n",
       " ('DD', -0.0),\n",
       " ('DIS', -0.0),\n",
       " ('GE', -0.0),\n",
       " ('GS', 0.0),\n",
       " ('HD', -0.0),\n",
       " ('IBM', 0.0),\n",
       " ('INTC', -0.0),\n",
       " ('JNJ', 0.0),\n",
       " ('JPM', -0.0),\n",
       " ('KO', -0.0),\n",
       " ('MCD', 0.0),\n",
       " ('MMM', 0.0),\n",
       " ('MRK', -0.0),\n",
       " ('MSFT', -0.0),\n",
       " ('NKE', -0.0),\n",
       " ('NUM_NEG', -0.0),\n",
       " ('NUM_NEG1', -0.0),\n",
       " ('NUM_NEG2', -0.0),\n",
       " ('NUM_NEU', -0.0),\n",
       " ('NUM_NEU1', -0.0),\n",
       " ('NUM_NEU2', -0.0),\n",
       " ('NUM_POS', 0.0),\n",
       " ('NUM_POS1', -0.0),\n",
       " ('NUM_POS2', 0.0),\n",
       " ('PFE', -0.0),\n",
       " ('PG', 0.0),\n",
       " ('T', -0.0),\n",
       " ('TRV', 0.0),\n",
       " ('TW', -0.0),\n",
       " ('TW1', -0.0),\n",
       " ('TW2', -0.0),\n",
       " ('UNH', 0.0),\n",
       " ('UTX', -0.0),\n",
       " ('V', 0.0),\n",
       " ('VZ', -0.0),\n",
       " ('WMT', 0.0),\n",
       " ('XOM', 0.0),\n",
       " ('NUM_NEG1_PER', 0.0),\n",
       " ('NUM_NEG2_PER', 0.0),\n",
       " ('NUM_NEU_PER', -0.0),\n",
       " ('NUM_NEU1_PER', 0.0),\n",
       " ('NUM_NEU2_PER', -0.0),\n",
       " ('NUM_POS_PER', 0.0),\n",
       " ('NUM_POS1_PER', -0.0),\n",
       " ('NUM_POS2_PER', 0.0),\n",
       " ('Date_1/10/14', -0.0),\n",
       " ('Date_1/13/14', -0.0),\n",
       " ('Date_1/14/14', 0.0),\n",
       " ('Date_1/15/14', 0.0),\n",
       " ('Date_1/16/14', -0.0),\n",
       " ('Date_1/17/14', -0.0),\n",
       " ('Date_1/2/14', -0.0),\n",
       " ('Date_1/21/14', -0.0),\n",
       " ('Date_1/22/14', -0.0),\n",
       " ('Date_1/23/14', -0.0),\n",
       " ('Date_1/24/14', -0.0),\n",
       " ('Date_1/27/14', -0.0),\n",
       " ('Date_1/28/14', 0.0),\n",
       " ('Date_1/29/14', -0.0),\n",
       " ('Date_1/3/14', 0.0),\n",
       " ('Date_1/30/14', -0.0),\n",
       " ('Date_1/31/14', 0.0),\n",
       " ('Date_1/6/14', -0.0),\n",
       " ('Date_1/7/14', 0.0),\n",
       " ('Date_1/8/14', -0.0),\n",
       " ('Date_1/9/14', -0.0),\n",
       " ('Date_10/1/13', 0.0),\n",
       " ('Date_10/10/13', 0.0),\n",
       " ('Date_10/11/13', 0.0),\n",
       " ('Date_10/14/13', 0.0),\n",
       " ('Date_10/15/13', -0.0),\n",
       " ('Date_10/16/13', 0.0),\n",
       " ('Date_10/17/13', 0.0),\n",
       " ('Date_10/18/13', -0.0),\n",
       " ('Date_10/2/13', -0.0),\n",
       " ('Date_10/21/13', -0.0),\n",
       " ('Date_10/22/13', 0.0),\n",
       " ('Date_10/23/13', -0.0),\n",
       " ('Date_10/24/13', 0.0),\n",
       " ('Date_10/25/13', 0.0),\n",
       " ('Date_10/28/13', 0.0),\n",
       " ('Date_10/29/13', 0.0),\n",
       " ('Date_10/3/13', -0.0),\n",
       " ('Date_10/30/13', -0.0),\n",
       " ('Date_10/31/13', -0.0),\n",
       " ('Date_10/4/13', 0.0),\n",
       " ('Date_10/7/13', -0.0),\n",
       " ('Date_10/8/13', -0.0),\n",
       " ('Date_10/9/13', -0.0),\n",
       " ('Date_11/1/13', 0.0),\n",
       " ('Date_11/11/13', 0.0),\n",
       " ('Date_11/12/13', -0.0),\n",
       " ('Date_11/13/13', 0.0),\n",
       " ('Date_11/14/13', 0.0),\n",
       " ('Date_11/15/13', 0.0),\n",
       " ('Date_11/18/13', -0.0),\n",
       " ('Date_11/19/13', -0.0),\n",
       " ('Date_11/20/13', -0.0),\n",
       " ('Date_11/21/13', 0.0),\n",
       " ('Date_11/22/13', 0.0),\n",
       " ('Date_11/25/13', -0.0),\n",
       " ('Date_11/26/13', -0.0),\n",
       " ('Date_11/27/13', 0.0),\n",
       " ('Date_11/29/13', -0.0),\n",
       " ('Date_11/4/13', -0.0),\n",
       " ('Date_11/5/13', 0.0),\n",
       " ('Date_11/6/13', 0.0),\n",
       " ('Date_11/7/13', -0.0),\n",
       " ('Date_11/8/13', 0.0),\n",
       " ('Date_12/10/13', -0.0),\n",
       " ('Date_12/11/13', -0.0),\n",
       " ('Date_12/12/13', -0.0),\n",
       " ('Date_12/13/13', 0.0),\n",
       " ('Date_12/16/13', 0.0),\n",
       " ('Date_12/17/13', -0.0),\n",
       " ('Date_12/18/13', 0.0),\n",
       " ('Date_12/19/13', 0.0),\n",
       " ('Date_12/2/13', -0.0),\n",
       " ('Date_12/20/13', 0.0),\n",
       " ('Date_12/23/13', -0.0),\n",
       " ('Date_12/24/13', 0.0),\n",
       " ('Date_12/26/13', 0.0),\n",
       " ('Date_12/27/13', -0.0),\n",
       " ('Date_12/3/13', -0.0),\n",
       " ('Date_12/30/13', 0.0),\n",
       " ('Date_12/31/13', 0.0),\n",
       " ('Date_12/4/13', 0.0),\n",
       " ('Date_12/5/13', -0.0),\n",
       " ('Date_12/6/13', 0.0),\n",
       " ('Date_12/9/13', -0.0),\n",
       " ('Date_2/10/14', -0.0),\n",
       " ('Date_2/11/14', 0.0),\n",
       " ('Date_2/12/14', -0.0),\n",
       " ('Date_2/13/14', 0.0),\n",
       " ('Date_2/14/14', 0.0),\n",
       " ('Date_2/18/14', -0.0),\n",
       " ('Date_2/19/14', -0.0),\n",
       " ('Date_2/20/14', 0.0),\n",
       " ('Date_2/21/14', -0.0),\n",
       " ('Date_2/24/14', 0.0),\n",
       " ('Date_2/25/14', -0.0),\n",
       " ('Date_2/26/14', 0.0),\n",
       " ('Date_2/27/14', 0.0),\n",
       " ('Date_2/28/14', 0.0),\n",
       " ('Date_2/3/14', -0.0),\n",
       " ('Date_2/4/14', 0.0),\n",
       " ('Date_2/5/14', 0.0),\n",
       " ('Date_2/6/14', 0.0),\n",
       " ('Date_2/7/14', 0.0),\n",
       " ('Date_3/10/14', 0.0),\n",
       " ('Date_3/11/14', -0.0),\n",
       " ('Date_3/12/14', 0.0),\n",
       " ('Date_3/13/14', -0.0),\n",
       " ('Date_3/14/14', -0.0),\n",
       " ('Date_3/17/14', 0.0),\n",
       " ('Date_3/18/14', 0.0),\n",
       " ('Date_3/19/14', -0.0),\n",
       " ('Date_3/20/14', 0.0),\n",
       " ('Date_3/21/14', -0.0),\n",
       " ('Date_3/24/14', -0.0),\n",
       " ('Date_3/25/14', 0.0),\n",
       " ('Date_3/26/14', -0.0),\n",
       " ('Date_3/27/14', -0.0),\n",
       " ('Date_3/28/14', 0.0),\n",
       " ('Date_3/3/14', 0.0),\n",
       " ('Date_3/31/14', 0.0),\n",
       " ('Date_3/4/14', 0.0),\n",
       " ('Date_3/5/14', -0.0),\n",
       " ('Date_3/6/14', 0.0),\n",
       " ('Date_3/7/14', -0.0),\n",
       " ('Date_4/1/14', 0.0),\n",
       " ('Date_4/10/14', -0.0),\n",
       " ('Date_4/11/14', -0.0),\n",
       " ('Date_4/14/14', 0.0),\n",
       " ('Date_4/15/14', 0.0),\n",
       " ('Date_4/16/14', 0.0),\n",
       " ('Date_4/17/14', -0.0),\n",
       " ('Date_4/2/14', 0.0),\n",
       " ('Date_4/21/14', 0.0),\n",
       " ('Date_4/22/14', 0.0),\n",
       " ('Date_4/23/14', -0.0),\n",
       " ('Date_4/24/14', -0.0),\n",
       " ('Date_4/25/14', -0.0),\n",
       " ('Date_4/28/14', -0.0),\n",
       " ('Date_4/29/14', 0.0),\n",
       " ('Date_4/3/14', -0.0),\n",
       " ('Date_4/30/14', 0.0),\n",
       " ('Date_4/4/14', -0.0),\n",
       " ('Date_4/7/14', -0.0),\n",
       " ('Date_4/8/14', 0.0),\n",
       " ('Date_4/9/14', 0.0),\n",
       " ('Date_5/1/14', -0.0),\n",
       " ('Date_5/12/14', 0.0),\n",
       " ('Date_5/13/14', -0.0),\n",
       " ('Date_5/14/14', -0.0),\n",
       " ('Date_5/15/14', -0.0),\n",
       " ('Date_5/16/14', 0.0),\n",
       " ('Date_5/19/14', 0.0),\n",
       " ('Date_5/2/14', -0.0),\n",
       " ('Date_5/20/14', -0.0),\n",
       " ('Date_5/21/14', 0.0),\n",
       " ('Date_5/22/14', 0.0),\n",
       " ('Date_5/23/14', 0.0),\n",
       " ('Date_5/27/14', 0.0),\n",
       " ('Date_5/28/14', -0.0),\n",
       " ('Date_5/29/14', 0.0),\n",
       " ('Date_5/30/14', 0.0),\n",
       " ('Date_5/5/14', 0.0),\n",
       " ('Date_5/6/14', -0.0),\n",
       " ('Date_5/7/14', 0.0),\n",
       " ('Date_5/8/14', 0.0),\n",
       " ('Date_5/9/14', 0.0),\n",
       " ('Date_6/10/13', -0.0),\n",
       " ('Date_6/10/14', 0.0),\n",
       " ('Date_6/11/13', -0.0),\n",
       " ('Date_6/11/14', -0.0),\n",
       " ('Date_6/12/13', -0.0),\n",
       " ('Date_6/12/14', -0.0),\n",
       " ('Date_6/13/13', 0.0),\n",
       " ('Date_6/13/14', 0.0),\n",
       " ('Date_6/14/13', -0.0),\n",
       " ('Date_6/16/14', 0.0),\n",
       " ('Date_6/17/13', 0.0),\n",
       " ('Date_6/17/14', 0.0),\n",
       " ('Date_6/18/13', 0.0),\n",
       " ('Date_6/18/14', 0.0),\n",
       " ('Date_6/19/13', -0.0),\n",
       " ('Date_6/19/14', -0.0),\n",
       " ('Date_6/2/14', 0.0),\n",
       " ('Date_6/20/13', -0.0),\n",
       " ('Date_6/20/14', -0.0),\n",
       " ('Date_6/21/13', -0.0),\n",
       " ('Date_6/23/14', -0.0),\n",
       " ('Date_6/24/13', -0.0),\n",
       " ('Date_6/24/14', -0.0),\n",
       " ('Date_6/25/13', -0.0),\n",
       " ('Date_6/25/14', 0.0),\n",
       " ('Date_6/26/13', 0.0),\n",
       " ('Date_6/26/14', -0.0),\n",
       " ('Date_6/27/13', 0.0),\n",
       " ('Date_6/27/14', 0.0),\n",
       " ('Date_6/28/13', -0.0),\n",
       " ('Date_6/3/14', 0.0),\n",
       " ('Date_6/30/14', -0.0),\n",
       " ('Date_6/4/13', -0.0),\n",
       " ('Date_6/4/14', 0.0),\n",
       " ('Date_6/5/13', -0.0),\n",
       " ('Date_6/5/14', 0.0),\n",
       " ('Date_6/6/13', 0.0),\n",
       " ('Date_6/6/14', 0.0),\n",
       " ('Date_6/7/13', 0.0),\n",
       " ('Date_6/9/14', 0.0),\n",
       " ('Date_7/1/13', 0.0),\n",
       " ('Date_7/1/14', 0.0),\n",
       " ('Date_7/10/13', -0.0),\n",
       " ('Date_7/10/14', 0.0),\n",
       " ('Date_7/11/13', 0.0),\n",
       " ('Date_7/11/14', 0.0),\n",
       " ('Date_7/12/13', 0.0),\n",
       " ('Date_7/14/14', 0.0),\n",
       " ('Date_7/15/13', -0.0),\n",
       " ('Date_7/15/14', -0.0),\n",
       " ('Date_7/16/13', -0.0),\n",
       " ('Date_7/16/14', -0.0),\n",
       " ('Date_7/17/13', 0.0),\n",
       " ('Date_7/17/14', -0.0),\n",
       " ('Date_7/18/13', 0.0),\n",
       " ('Date_7/18/14', 0.0),\n",
       " ('Date_7/19/13', 0.0),\n",
       " ('Date_7/2/13', -0.0),\n",
       " ('Date_7/2/14', 0.0),\n",
       " ('Date_7/21/14', 0.0),\n",
       " ('Date_7/22/13', 0.0),\n",
       " ('Date_7/22/14', 0.0),\n",
       " ('Date_7/23/13', -0.0),\n",
       " ('Date_7/23/14', -0.0),\n",
       " ('Date_7/24/13', -0.0),\n",
       " ('Date_7/24/14', -0.0),\n",
       " ('Date_7/25/13', 0.0),\n",
       " ('Date_7/25/14', -0.0),\n",
       " ('Date_7/26/13', 0.0),\n",
       " ('Date_7/28/14', 0.0),\n",
       " ('Date_7/29/13', -0.0),\n",
       " ('Date_7/29/14', -0.0),\n",
       " ('Date_7/3/13', 0.0),\n",
       " ('Date_7/3/14', 0.0),\n",
       " ('Date_7/30/13', -0.0),\n",
       " ('Date_7/30/14', -0.0),\n",
       " ('Date_7/31/13', -0.0),\n",
       " ('Date_7/31/14', -0.0),\n",
       " ('Date_7/5/13', 0.0),\n",
       " ('Date_7/7/14', 0.0),\n",
       " ('Date_7/8/13', -0.0),\n",
       " ('Date_7/8/14', -0.0),\n",
       " ('Date_7/9/13', 0.0),\n",
       " ('Date_7/9/14', 0.0),\n",
       " ('Date_8/1/13', 0.0),\n",
       " ('Date_8/1/14', -0.0),\n",
       " ('Date_8/11/14', -0.0),\n",
       " ('Date_8/12/13', 0.0),\n",
       " ('Date_8/12/14', 0.0),\n",
       " ('Date_8/13/13', 0.0),\n",
       " ('Date_8/13/14', 0.0),\n",
       " ('Date_8/14/13', -0.0),\n",
       " ('Date_8/14/14', 0.0),\n",
       " ('Date_8/15/13', -0.0),\n",
       " ('Date_8/15/14', -0.0),\n",
       " ('Date_8/16/13', -0.0),\n",
       " ('Date_8/18/14', 0.0),\n",
       " ('Date_8/19/13', -0.0),\n",
       " ('Date_8/19/14', 0.0),\n",
       " ('Date_8/2/13', 0.0),\n",
       " ('Date_8/20/13', -0.0),\n",
       " ('Date_8/20/14', 0.0),\n",
       " ('Date_8/21/13', -0.0),\n",
       " ('Date_8/21/14', 0.0),\n",
       " ('Date_8/22/13', 0.0),\n",
       " ('Date_8/22/14', -0.0),\n",
       " ('Date_8/23/13', -0.0),\n",
       " ('Date_8/25/14', -0.0),\n",
       " ('Date_8/26/13', -0.0),\n",
       " ('Date_8/26/14', 0.0),\n",
       " ('Date_8/27/13', -0.0),\n",
       " ('Date_8/27/14', 0.0),\n",
       " ('Date_8/28/13', 0.0),\n",
       " ('Date_8/28/14', 0.0),\n",
       " ('Date_8/29/13', 0.0),\n",
       " ('Date_8/29/14', -0.0),\n",
       " ('Date_8/30/13', -0.0),\n",
       " ('Date_8/4/14', 0.0),\n",
       " ('Date_8/5/13', 0.0),\n",
       " ('Date_8/5/14', -0.0),\n",
       " ('Date_8/6/13', -0.0),\n",
       " ('Date_8/6/14', 0.0),\n",
       " ('Date_8/7/13', 0.0),\n",
       " ('Date_8/7/14', -0.0),\n",
       " ('Date_8/8/13', -0.0),\n",
       " ('Date_8/8/14', 0.0),\n",
       " ('Date_8/9/13', -0.0),\n",
       " ('Date_9/10/13', 0.0),\n",
       " ('Date_9/10/14', 0.0),\n",
       " ('Date_9/11/13', 0.0),\n",
       " ('Date_9/11/14', 0.0),\n",
       " ('Date_9/12/13', -0.0),\n",
       " ('Date_9/12/14', -0.0),\n",
       " ('Date_9/13/13', 0.0),\n",
       " ('Date_9/15/14', 0.0),\n",
       " ('Date_9/16/13', -0.0),\n",
       " ('Date_9/16/14', 0.0),\n",
       " ('Date_9/17/13', 0.0),\n",
       " ('Date_9/17/14', 0.0),\n",
       " ('Date_9/18/13', 0.0),\n",
       " ('Date_9/18/14', 0.0),\n",
       " ('Date_9/19/13', -0.0),\n",
       " ('Date_9/2/14', -0.0),\n",
       " ('Date_9/20/13', -0.0),\n",
       " ('Date_9/23/13', -0.0),\n",
       " ('Date_9/24/13', -0.0),\n",
       " ('Date_9/25/13', -0.0),\n",
       " ('Date_9/26/13', 0.0),\n",
       " ('Date_9/27/13', -0.0),\n",
       " ('Date_9/3/13', -0.0),\n",
       " ('Date_9/3/14', -0.0),\n",
       " ('Date_9/30/13', 0.0),\n",
       " ('Date_9/4/13', 0.0),\n",
       " ('Date_9/4/14', -0.0),\n",
       " ('Date_9/5/13', 0.0),\n",
       " ('Date_9/5/14', 0.0),\n",
       " ('Date_9/6/13', -0.0),\n",
       " ('Date_9/8/14', -0.0),\n",
       " ('Date_9/9/13', 0.0),\n",
       " ('Date_9/9/14', -0.0),\n",
       " ('NUM_NEG_PER', -0.013517963852470161),\n",
       " ('OPEN', 45.01774458569603)]"
      ]
     },
     "execution_count": 89,
     "metadata": {},
     "output_type": "execute_result"
    }
   ],
   "source": [
    "sorted(list(zip(data_dummies, clf.coef_)), key=lambda x: abs(x[1]))"
   ]
  },
  {
   "cell_type": "code",
   "execution_count": 90,
   "metadata": {},
   "outputs": [
    {
     "name": "stdout",
     "output_type": "stream",
     "text": [
      "Train MSE: 0.6949741262750946\n",
      "Test MSE: 0.6221862114956936\n"
     ]
    }
   ],
   "source": [
    "clf = ElasticNetCV(l1_ratio=[.1, .3, .5, .7, .8, .9, .95, .99, 1], alphas= [.1, 1, 5, 10], cv=5) #basic Elastic Net with CV\n",
    "clf.fit(X_train1, y_train1)\n",
    "train_predictions = clf.predict(X_train1)\n",
    "test_predictions = clf.predict(X_test1)\n",
    "print(\"Train MSE: {}\".format(mean_squared_error(y_train1, train_predictions)))\n",
    "print(\"Test MSE: {}\".format(mean_squared_error(y_test1, test_predictions)))"
   ]
  },
  {
   "cell_type": "code",
   "execution_count": 91,
   "metadata": {},
   "outputs": [
    {
     "data": {
      "text/plain": [
       "[('AXP', -0.0),\n",
       " ('BA', 0.0),\n",
       " ('CAT', 0.0),\n",
       " ('CSCO', -0.0),\n",
       " ('CVX', 0.0),\n",
       " ('DD', -0.0),\n",
       " ('DIS', -0.0),\n",
       " ('GE', -0.0),\n",
       " ('GS', 0.0),\n",
       " ('HD', -0.0),\n",
       " ('IBM', 0.0),\n",
       " ('INTC', -0.0),\n",
       " ('JNJ', 0.0),\n",
       " ('JPM', -0.0),\n",
       " ('KO', -0.0),\n",
       " ('MCD', 0.0),\n",
       " ('MMM', 0.0),\n",
       " ('MRK', -0.0),\n",
       " ('MSFT', -0.0),\n",
       " ('NKE', -0.0),\n",
       " ('NUM_NEG', -0.0),\n",
       " ('NUM_NEG1', -0.0),\n",
       " ('NUM_NEG2', -0.0),\n",
       " ('NUM_NEU', -0.0),\n",
       " ('NUM_NEU1', -0.0),\n",
       " ('NUM_NEU2', -0.0),\n",
       " ('NUM_POS', 0.0),\n",
       " ('NUM_POS1', -0.0),\n",
       " ('NUM_POS2', 0.0),\n",
       " ('PFE', -0.0),\n",
       " ('PG', 0.0),\n",
       " ('T', -0.0),\n",
       " ('TRV', 0.0),\n",
       " ('TW', -0.0),\n",
       " ('TW1', -0.0),\n",
       " ('TW2', -0.0),\n",
       " ('UNH', 0.0),\n",
       " ('UTX', -0.0),\n",
       " ('V', 0.0),\n",
       " ('VZ', -0.0),\n",
       " ('WMT', 0.0),\n",
       " ('XOM', 0.0),\n",
       " ('NUM_NEG1_PER', 0.0),\n",
       " ('NUM_NEG2_PER', 0.0),\n",
       " ('NUM_NEU_PER', -0.0),\n",
       " ('NUM_NEU1_PER', 0.0),\n",
       " ('NUM_NEU2_PER', -0.0),\n",
       " ('NUM_POS_PER', 0.0),\n",
       " ('NUM_POS1_PER', -0.0),\n",
       " ('NUM_POS2_PER', 0.0),\n",
       " ('NUM_NEG_PER', -0.013517965647263215),\n",
       " ('OPEN', 45.01774461071161)]"
      ]
     },
     "execution_count": 91,
     "metadata": {},
     "output_type": "execute_result"
    }
   ],
   "source": [
    "sorted(list(zip(data_nodate, clf.coef_)), key=lambda x: abs(x[1]))"
   ]
  },
  {
   "cell_type": "code",
   "execution_count": 97,
   "metadata": {},
   "outputs": [
    {
     "name": "stdout",
     "output_type": "stream",
     "text": [
      "Train MSE: 0.6980498349467301\n",
      "Test MSE: 0.6255164217586322\n"
     ]
    }
   ],
   "source": [
    "clf = ElasticNetCV(l1_ratio=[.1, .3, .5, .7, .8, .9, .95, .99, 1], alphas= [.1, 1, 5, 10], cv=5) #basic Elastic Net with CV\n",
    "clf.fit(X_train2, y_train2)\n",
    "train_predictions = clf.predict(X_train2)\n",
    "test_predictions = clf.predict(X_test2)\n",
    "print(\"Train MSE: {}\".format(mean_squared_error(y_train2, train_predictions)))\n",
    "print(\"Test MSE: {}\".format(mean_squared_error(y_test2, test_predictions)))"
   ]
  },
  {
   "cell_type": "code",
   "execution_count": 98,
   "metadata": {},
   "outputs": [
    {
     "data": {
      "text/plain": [
       "[('AXP', -0.0),\n",
       " ('BA', 0.0),\n",
       " ('CAT', 0.0),\n",
       " ('CSCO', -0.0),\n",
       " ('CVX', 0.0),\n",
       " ('DD', -0.0),\n",
       " ('DIS', -0.0),\n",
       " ('GE', -0.0),\n",
       " ('GS', 0.0),\n",
       " ('HD', -0.0),\n",
       " ('IBM', 0.0),\n",
       " ('INTC', -0.0),\n",
       " ('JNJ', 0.0),\n",
       " ('JPM', -0.0),\n",
       " ('KO', -0.0),\n",
       " ('MCD', 0.0),\n",
       " ('MMM', 0.0),\n",
       " ('MRK', -0.0),\n",
       " ('MSFT', -0.0),\n",
       " ('NKE', -0.0),\n",
       " ('NUM_NEG1', -0.0),\n",
       " ('NUM_NEG2', -0.0),\n",
       " ('NUM_NEU1', -0.0),\n",
       " ('NUM_NEU2', -0.0),\n",
       " ('NUM_POS1', -0.0),\n",
       " ('NUM_POS2', 0.0),\n",
       " ('PFE', -0.0),\n",
       " ('PG', 0.0),\n",
       " ('T', -0.0),\n",
       " ('TRV', 0.0),\n",
       " ('TW', -0.0),\n",
       " ('TW1', -0.0),\n",
       " ('TW2', -0.0),\n",
       " ('UNH', 0.0),\n",
       " ('UTX', -0.0),\n",
       " ('V', 0.0),\n",
       " ('VZ', -0.0),\n",
       " ('WMT', 0.0),\n",
       " ('XOM', 0.0),\n",
       " ('NUM_NEG1_PER', -0.0),\n",
       " ('NUM_NEG2_PER', 0.0),\n",
       " ('NUM_NEU1_PER', 0.0),\n",
       " ('NUM_NEU2_PER', -0.0),\n",
       " ('NUM_POS1_PER', -0.0),\n",
       " ('NUM_POS2_PER', 0.0),\n",
       " ('OPEN', 45.01678246941146)]"
      ]
     },
     "execution_count": 98,
     "metadata": {},
     "output_type": "execute_result"
    }
   ],
   "source": [
    "sorted(list(zip(data_prev, clf.coef_)), key=lambda x: abs(x[1]))"
   ]
  },
  {
   "cell_type": "code",
   "execution_count": 100,
   "metadata": {},
   "outputs": [
    {
     "name": "stderr",
     "output_type": "stream",
     "text": [
      "/Users/jacobbills/Desktop/python/anaconda3/lib/python3.6/site-packages/sklearn/preprocessing/data.py:617: DataConversionWarning: Data with input dtype uint8, int64, float64 were all converted to float64 by StandardScaler.\n",
      "  return self.partial_fit(X, y)\n",
      "/Users/jacobbills/Desktop/python/anaconda3/lib/python3.6/site-packages/ipykernel_launcher.py:3: DataConversionWarning: Data with input dtype uint8, int64, float64 were all converted to float64 by StandardScaler.\n",
      "  This is separate from the ipykernel package so we can avoid doing imports until\n",
      "/Users/jacobbills/Desktop/python/anaconda3/lib/python3.6/site-packages/sklearn/preprocessing/data.py:617: DataConversionWarning: Data with input dtype int64, float64 were all converted to float64 by StandardScaler.\n",
      "  return self.partial_fit(X, y)\n",
      "/Users/jacobbills/Desktop/python/anaconda3/lib/python3.6/site-packages/ipykernel_launcher.py:6: DataConversionWarning: Data with input dtype int64, float64 were all converted to float64 by StandardScaler.\n",
      "  \n",
      "/Users/jacobbills/Desktop/python/anaconda3/lib/python3.6/site-packages/sklearn/preprocessing/data.py:617: DataConversionWarning: Data with input dtype int64, float64 were all converted to float64 by StandardScaler.\n",
      "  return self.partial_fit(X, y)\n",
      "/Users/jacobbills/Desktop/python/anaconda3/lib/python3.6/site-packages/ipykernel_launcher.py:9: DataConversionWarning: Data with input dtype int64, float64 were all converted to float64 by StandardScaler.\n",
      "  if __name__ == '__main__':\n"
     ]
    }
   ],
   "source": [
    "scaler = StandardScaler()\n",
    "scaler.fit(data_nopen)\n",
    "scaled_df = scaler.transform(data_nopen)\n",
    "\n",
    "scaler.fit(data_nopen_date)\n",
    "scaled_df_no = scaler.transform(data_nopen_date)\n",
    "\n",
    "scaler.fit(data_nopen_prev)\n",
    "scaled_prev = scaler.transform(data_nopen_prev)"
   ]
  },
  {
   "cell_type": "code",
   "execution_count": 101,
   "metadata": {},
   "outputs": [],
   "source": [
    "X_train3, X_test3, y_train3, y_test3 = train_test_split(scaled_df, target, test_size=.2, random_state = 11)\n",
    "X_train4, X_test4, y_train4, y_test4 = train_test_split(scaled_df_no, target, test_size=.2, random_state = 11)\n",
    "X_train5, X_test5, y_train5, y_test5 = train_test_split(scaled_prev, target, test_size=.2, random_state = 11)"
   ]
  },
  {
   "cell_type": "code",
   "execution_count": 102,
   "metadata": {},
   "outputs": [
    {
     "name": "stdout",
     "output_type": "stream",
     "text": [
      "Train MSE: 25.774255347942862\n",
      "Test MSE: 29.288411766336193\n",
      "[('HD', -0.0), ('NUM_NEG', -0.0), ('NUM_NEG1', -0.0), ('NUM_NEG2', -0.0), ('NUM_NEU', -0.0), ('NUM_NEU1', -0.0), ('NUM_NEU2', -0.0), ('NUM_POS', 0.0), ('NUM_POS1', 0.0), ('PG', 0.0), ('TW', -0.0), ('TW1', -0.0), ('TW2', -0.0), ('NUM_POS_PER', -0.0), ('NUM_POS1_PER', -0.0), ('NUM_POS2_PER', -0.0), ('Date_1/13/14', 0.0), ('Date_1/14/14', 0.0), ('Date_1/15/14', 0.0), ('Date_1/16/14', 0.0), ('Date_1/2/14', 0.0), ('Date_1/21/14', -0.0), ('Date_1/23/14', 0.0), ('Date_1/27/14', -0.0), ('Date_1/28/14', -0.0), ('Date_1/30/14', -0.0), ('Date_1/6/14', 0.0), ('Date_1/9/14', 0.0), ('Date_11/12/13', -0.0), ('Date_11/14/13', -0.0), ('Date_11/15/13', -0.0), ('Date_11/18/13', -0.0), ('Date_11/19/13', -0.0), ('Date_11/21/13', -0.0), ('Date_11/22/13', -0.0), ('Date_11/25/13', -0.0), ('Date_11/26/13', -0.0), ('Date_11/27/13', 0.0), ('Date_11/29/13', -0.0), ('Date_12/10/13', -0.0), ('Date_12/16/13', -0.0), ('Date_12/17/13', -0.0), ('Date_12/18/13', 0.0), ('Date_12/19/13', -0.0), ('Date_12/2/13', -0.0), ('Date_12/20/13', 0.0), ('Date_12/23/13', 0.0), ('Date_12/24/13', 0.0), ('Date_12/3/13', -0.0), ('Date_12/31/13', 0.0), ('Date_12/4/13', -0.0), ('Date_12/6/13', -0.0), ('Date_12/9/13', -0.0), ('Date_2/11/14', -0.0), ('Date_2/12/14', -0.0), ('Date_2/13/14', -0.0), ('Date_2/14/14', -0.0), ('Date_2/18/14', 0.0), ('Date_2/19/14', -0.0), ('Date_2/20/14', 0.0), ('Date_2/21/14', -0.0), ('Date_2/24/14', 0.0), ('Date_2/25/14', 0.0), ('Date_2/26/14', 0.0), ('Date_2/27/14', 0.0), ('Date_2/28/14', 0.0), ('Date_2/6/14', -0.0), ('Date_2/7/14', -0.0), ('Date_3/12/14', 0.0), ('Date_3/13/14', 0.0), ('Date_3/14/14', -0.0), ('Date_3/17/14', 0.0), ('Date_3/18/14', 0.0), ('Date_3/19/14', 0.0), ('Date_3/21/14', 0.0), ('Date_3/24/14', 0.0), ('Date_3/26/14', 0.0), ('Date_3/27/14', 0.0), ('Date_3/28/14', 0.0), ('Date_3/3/14', 0.0), ('Date_3/5/14', 0.0), ('Date_3/6/14', 0.0), ('Date_4/10/14', 0.0), ('Date_4/11/14', -0.0), ('Date_4/14/14', 0.0), ('Date_4/15/14', 0.0), ('Date_4/16/14', 0.0), ('Date_4/17/14', 0.0), ('Date_4/2/14', 0.0), ('Date_4/21/14', 0.0), ('Date_4/25/14', 0.0), ('Date_4/28/14', 0.0), ('Date_4/29/14', 0.0), ('Date_4/4/14', 0.0), ('Date_4/7/14', 0.0), ('Date_4/8/14', 0.0), ('Date_4/9/14', 0.0), ('Date_5/1/14', 0.0), ('Date_5/15/14', 0.0), ('Date_5/2/14', 0.0), ('Date_5/20/14', 0.0), ('Date_5/22/14', 0.0), ('Date_5/5/14', 0.0), ('Date_5/6/14', 0.0), ('Date_5/7/14', 0.0), ('Date_5/8/14', 0.0), ('Date_8/12/14', 0.0), ('Date_8/5/14', 0.0), ('Date_8/6/14', 0.0), ('Date_8/7/14', 0.0), ('Date_8/8/14', 0.0), ('Date_5/19/14', 0.0017259351860274168), ('Date_11/11/13', -0.003648150339244237), ('Date_3/7/14', 0.004521498731116301), ('Date_3/11/14', 0.00453947783013617), ('Date_4/22/14', 0.004786035090935149), ('Date_12/5/13', -0.005714325825627604), ('Date_11/20/13', -0.0059761716908403005), ('Date_11/8/13', -0.006108260104384021), ('Date_3/20/14', 0.009886214468195396), ('NUM_POS2', 0.010880472101390162), ('Date_12/13/13', -0.011621022814923592), ('Date_1/8/14', 0.011940117264221797), ('Date_12/12/13', -0.013704974182862473), ('Date_12/30/13', 0.013751856822528549), ('Date_4/30/14', 0.013930132609530788), ('Date_12/11/13', -0.014154000353169821), ('Date_12/26/13', 0.016212944637828314), ('Date_4/3/14', 0.01628720625539925), ('Date_8/5/13', -0.01636810968987946), ('Date_11/13/13', -0.016798598044124226), ('Date_8/15/14', 0.017801196510149463), ('Date_1/24/14', -0.0178022399543341), ('Date_8/11/14', 0.018036663377327417), ('Date_3/25/14', 0.018776256806787253), ('Date_5/9/14', 0.019324966094892208), ('Date_3/10/14', 0.019410306116172314), ('Date_1/3/14', 0.020352385837570965), ('Date_4/23/14', 0.021154906072300667), ('Date_3/4/14', 0.02382859327780129), ('Date_1/17/14', 0.02411856638414234), ('Date_11/4/13', -0.024805961156520884), ('Date_5/16/14', 0.025188966726590607), ('Date_10/25/13', -0.025892252153935928), ('Date_4/24/14', 0.0266980534520675), ('Date_8/1/14', 0.027977234920432636), ('Date_2/10/14', -0.028479023155080056), ('Date_8/13/14', 0.028584993864976548), ('Date_1/10/14', 0.029408640234881912), ('Date_10/29/13', -0.029951959605676468), ('Date_8/4/14', 0.030346692484810228), ('Date_5/28/14', 0.031059816040824056), ('Date_1/22/14', 0.031118502792659136), ('Date_12/27/13', 0.03199680107724895), ('Date_5/21/14', 0.03433368678064863), ('Date_1/7/14', 0.03877720415826215), ('Date_10/30/13', -0.03943118829451375), ('Date_11/5/13', -0.04060513355999455), ('Date_11/6/13', -0.0407705044489185), ('Date_7/31/14', 0.042464135923553664), ('Date_3/31/14', 0.0425725581013022), ('Date_5/23/14', 0.043406784096352166), ('Date_4/1/14', 0.0438960390080298), ('Date_6/19/14', 0.04592443332150839), ('Date_8/14/14', 0.047592723174169176), ('Date_6/3/14', 0.04848406554785865), ('NUM_NEU2_PER', 0.05073898319500199), ('Date_10/31/13', -0.05122546680229577), ('Date_11/1/13', -0.05134880198184987), ('Date_1/31/14', -0.052409142785549145), ('Date_1/29/14', -0.053404207404349494), ('Date_7/22/13', -0.05581013037751683), ('Date_5/27/14', 0.057404182230708416), ('Date_5/29/14', 0.058255552116451594), ('Date_5/12/14', 0.05851977129521142), ('Date_6/2/14', 0.05940217997829236), ('Date_8/7/13', -0.06196869950873655), ('Date_9/19/13', -0.06245316451299313), ('Date_9/18/13', -0.06431864627646343), ('Date_6/5/14', 0.06469270765526935), ('Date_7/23/13', -0.06565724931601788), ('Date_5/14/14', 0.0677729904687384), ('Date_5/30/14', 0.0708634665378298), ('Date_6/4/14', 0.07141939916194212), ('Date_9/15/14', 0.07272494142356337), ('Date_10/22/13', -0.07515572656955766), ('Date_10/28/13', -0.08213861322395079), ('Date_8/18/14', 0.08216154168540168), ('Date_7/11/14', 0.08221934612194352), ('Date_2/5/14', -0.08428912944072549), ('Date_5/13/14', 0.08454296970680422), ('Date_2/4/14', -0.0856617946315215), ('Date_7/18/13', -0.08696828684828647), ('Date_8/13/13', -0.08709807994254995), ('Date_6/12/14', 0.08795107069028081), ('Date_9/20/13', -0.08839316435132079), ('Date_10/24/13', -0.08864831623206257), ('Date_11/7/13', -0.08966879048079832), ('Date_6/11/14', 0.0898952556276864), ('Date_6/17/14', 0.09053261696649387), ('Date_6/13/14', 0.09170064066007472), ('Date_8/19/14', 0.09171327123246754), ('Date_6/16/14', 0.09786915332998976), ('Date_9/16/13', -0.0987645408054571), ('Date_10/18/13', -0.09992730006734024), ('Date_6/30/14', 0.10137413508761475), ('Date_9/17/13', -0.10226271144073787), ('Date_7/30/13', -0.10241485112891084), ('Date_7/8/14', 0.10295383775095585), ('Date_7/25/13', -0.1039247097915771), ('Date_10/17/13', -0.10750544618694799), ('Date_6/24/14', 0.10889894582296626), ('Date_7/15/13', -0.10964662232144894), ('Date_7/14/14', 0.11015907603327944), ('Date_9/11/14', 0.11028166591485163), ('Date_10/16/13', -0.1156611008651026), ('Date_7/17/13', -0.11575832884977753), ('Date_10/21/13', -0.11598612032488471), ('Date_7/19/13', -0.11607182055286541), ('Date_6/18/14', 0.11739419574099809), ('Date_6/26/14', 0.11785644378287416), ('Date_9/27/13', -0.1184059285203128), ('Date_8/22/14', 0.12052544360886745), ('Date_6/9/14', 0.12159019298165348), ('Date_7/10/14', 0.12168967036026263), ('Date_6/20/14', 0.12209036822670391), ('Date_9/12/14', 0.12372031650052026), ('Date_7/1/14', 0.1240094343861497), ('Date_10/23/13', -0.1243371746192132), ('Date_8/8/13', -0.12665592699848444), ('Date_7/21/14', 0.1277536289695416), ('Date_7/26/13', -0.1279845902443132), ('Date_7/29/13', -0.1286990885757938), ('Date_6/25/14', 0.12921903708052662), ('Date_9/24/13', -0.13367111839714899), ('Date_8/20/14', 0.1337873323949383), ('Date_7/17/14', 0.13464182716109424), ('Date_7/12/13', -0.13581902685923927), ('Date_8/1/13', -0.13626963435666944), ('Date_6/7/13', -0.13675495196854706), ('Date_6/18/13', -0.13686575001005696), ('Date_8/2/13', -0.13709716569699215), ('Date_6/27/14', 0.13849154043938325), ('Date_10/11/13', -0.13901743525439444), ('Date_9/26/13', -0.13995140703863135), ('Date_9/23/13', -0.14021534438800778), ('Date_7/28/14', 0.14045338303742774), ('Date_7/11/13', -0.1412307916146097), ('Date_9/4/14', 0.14302464449572458), ('Date_7/31/13', -0.1442422519308796), ('Date_8/16/13', -0.14497095823903727), ('Date_2/3/14', -0.14555346254977405), ('Date_8/12/13', -0.14660365265659014), ('Date_9/16/14', 0.14823493155082895), ('Date_7/9/14', 0.14902384951036834), ('NUM_NEG1_PER', -0.14937298854995382), ('Date_7/18/14', 0.15068336729785825), ('Date_8/21/14', 0.1514844820962199), ('Date_9/10/14', 0.15236061066229595), ('Date_9/2/14', 0.15262172955385808), ('Date_6/23/14', 0.1536224613867383), ('Date_7/24/13', -0.1541979179565496), ('Date_10/14/13', -0.15505656312913602), ('Date_9/17/14', 0.15523647639748575), ('Date_7/29/14', 0.15524381307239152), ('Date_7/30/14', 0.15646550995792674), ('Date_9/5/14', 0.15872579913998053), ('Date_7/7/14', 0.16345562773746777), ('NUM_NEG_PER', -0.16402603600674856), ('Date_6/6/14', 0.16507259844121067), ('Date_9/25/13', -0.1658079990205864), ('Date_6/10/14', 0.1658633133900142), ('NUM_NEU1_PER', 0.16617492473988185), ('Date_7/25/14', 0.16650785720676184), ('Date_7/16/13', -0.16668531559758964), ('NUM_NEU_PER', 0.16770070936765064), ('Date_9/9/14', 0.16881792805453288), ('Date_8/28/14', 0.16884866477515756), ('Date_10/10/13', -0.1688671647161425), ('Date_8/6/13', -0.1688764200827297), ('Date_7/15/14', 0.16919325292822812), ('Date_9/13/13', -0.1711155106713255), ('Date_10/2/13', -0.17132125128385342), ('Date_9/3/14', 0.17720383888227076), ('Date_7/2/14', 0.1784385654695594), ('Date_8/9/13', -0.17883653916698905), ('Date_6/11/13', -0.17967751340773744), ('Date_10/15/13', -0.18037308097970264), ('Date_9/8/14', 0.18338219222399174), ('Date_7/3/14', 0.185270166066036), ('Date_7/24/14', 0.18532103149073953), ('Date_7/9/13', -0.1863732731035316), ('Date_7/8/13', -0.18673968728994328), ('Date_8/25/14', 0.18719887500934895), ('Date_6/4/13', -0.19016210088537613), ('Date_10/1/13', -0.19168677918782914), ('Date_6/19/13', -0.19401054511166002), ('Date_9/12/13', -0.1977726694066239), ('Date_8/26/14', 0.20054441496311695), ('Date_7/10/13', -0.20061769978231844), ('Date_6/13/13', -0.20087496918304573), ('Date_8/27/14', 0.20815860260181068), ('Date_7/23/14', 0.20818119289794007), ('Date_7/16/14', 0.20950471258354394), ('Date_8/29/14', 0.2145715780586599), ('NUM_NEG2_PER', -0.2152981477140618), ('Date_6/12/13', -0.21564903832569393), ('Date_9/11/13', -0.21565554226498218), ('Date_9/10/13', -0.21785757997642588), ('Date_6/10/13', -0.2192357239834218), ('Date_9/30/13', -0.22440173214901538), ('Date_10/4/13', -0.2266351907192098), ('Date_6/14/13', -0.22752871616101789), ('Date_7/5/13', -0.23103942422054954), ('Date_7/22/14', 0.232656011311268), ('Date_9/9/13', -0.23523271757185318), ('Date_9/18/14', 0.23965546710264213), ('Date_8/14/13', -0.2429568427147588), ('Date_10/7/13', -0.2540747349440032), ('Date_10/3/13', -0.257424757176122), ('Date_8/23/13', -0.25760095698474866), ('Date_8/19/13', -0.2581804989767854), ('Date_8/21/13', -0.2588054199586349), ('Date_10/9/13', -0.25933003632365736), ('Date_8/22/13', -0.26538187307478095), ('Date_9/6/13', -0.26897235633821526), ('Date_6/26/13', -0.2700384274405831), ('Date_8/20/13', -0.2748194624817986), ('Date_9/4/13', -0.2754774777298619), ('Date_8/26/13', -0.28164477647573377), ('Date_8/15/13', -0.28792217023639577), ('Date_6/6/13', -0.289888900013788), ('Date_10/8/13', -0.30016917295910217), ('Date_6/21/13', -0.3026247110562157), ('Date_6/27/13', -0.30284050953754144), ('Date_6/17/13', -0.30506367368726417), ('Date_6/28/13', -0.3119736864215826), ('Date_9/3/13', -0.3130885700783248), ('Date_7/1/13', -0.31483249023515975), ('Date_7/3/13', -0.31646847504377607), ('Date_6/25/13', -0.32137524272859536), ('Date_9/5/13', -0.3290313643675658), ('Date_6/5/13', -0.3300237098278807), ('Date_8/28/13', -0.3339950156005711), ('Date_7/2/13', -0.33491534527004324), ('Date_8/27/13', -0.34209298279105355), ('Date_6/20/13', -0.3450231848010947), ('Date_8/29/13', -0.35151933374122196), ('Date_8/30/13', -0.3516349692855718), ('Date_6/24/13', -0.398913709443914), ('WMT', -0.4969724208343702), ('UNH', -0.6594549493267997), ('DIS', -0.7551515007707292), ('NKE', -0.988279820358584), ('AXP', 1.1494469231916205), ('TRV', 1.2131985953951945), ('JNJ', 2.5747515880602756), ('CAT', 2.6106848730570484), ('XOM', 2.683784233026071), ('DD', -2.917661567639035), ('MCD', 3.066961120861289), ('JPM', -3.96088056447539), ('MRK', -4.727601633691517), ('UTX', 5.159915099154127), ('VZ', -5.360634706507553), ('KO', -6.904495603276051), ('MSFT', -7.243600489014836), ('CVX', 7.410698719165199), ('BA', 7.606937871618295), ('T', -7.87911548491133), ('PFE', -8.686713649716623), ('MMM', 8.820863872276638), ('INTC', -9.235139432526386), ('GE', -9.481897464647068), ('CSCO', -9.724625549423862), ('GS', 14.998616396923058), ('IBM', 18.91474455729471), ('V', 21.871516485181154)]\n"
     ]
    }
   ],
   "source": [
    "clf = ElasticNetCV(l1_ratio=[.1, .3, .5, .7, .8, .9, .95, .99, 1], alphas= [.1, 1, 5, 10], cv=5) #basic Elastic Net with CV\n",
    "clf.fit(X_train3, y_train3)\n",
    "train_predictions = clf.predict(X_train3)\n",
    "test_predictions = clf.predict(X_test3)\n",
    "print(\"Train MSE: {}\".format(mean_squared_error(y_train3, train_predictions)))\n",
    "print(\"Test MSE: {}\".format(mean_squared_error(y_test3, test_predictions)))\n",
    "print(sorted(list(zip(data_nopen, clf.coef_)), key=lambda x: abs(x[1])))"
   ]
  },
  {
   "cell_type": "code",
   "execution_count": 103,
   "metadata": {},
   "outputs": [
    {
     "name": "stdout",
     "output_type": "stream",
     "text": [
      "Train MSE: 36.04895309315978\n",
      "Test MSE: 37.75881021970031\n",
      "[('HD', 0.0), ('NUM_NEG', 0.0), ('NUM_NEG1', -0.0), ('NUM_NEG2', 0.0), ('NUM_NEU', 0.0), ('NUM_NEU1', 0.0), ('NUM_NEU2', 0.0), ('PG', 0.0), ('TW', 0.0), ('TW1', 0.0), ('NUM_POS_PER', -0.0), ('NUM_POS1_PER', -0.0), ('NUM_POS2_PER', -0.0), ('TW2', 0.05928799895857067), ('NUM_NEG1_PER', -0.09941212970419128), ('NUM_NEG_PER', -0.17456672900308312), ('NUM_POS2', 0.21430939211982022), ('NUM_NEG2_PER', -0.24735483028365648), ('NUM_POS', 0.24840842011094325), ('NUM_POS1', 0.26831254578191754), ('NUM_NEU2_PER', 0.40581874258592765), ('WMT', -0.47038460825169287), ('UNH', -0.5481074251972642), ('NUM_NEU1_PER', 0.5980185240579937), ('NUM_NEU_PER', 0.6218523869509252), ('DIS', -0.7275648719227753), ('NKE', -0.8268819055477785), ('TRV', 1.2630030381981432), ('AXP', 1.2697037340366724), ('JNJ', 2.6191465772563918), ('CAT', 2.7604477825730642), ('XOM', 2.765542963541569), ('DD', -2.877323765492274), ('MCD', 3.1153773077761144), ('JPM', -3.914604202512737), ('MRK', -4.78282762914061), ('UTX', 5.318309483976449), ('VZ', -5.356513869511098), ('KO', -6.891268434867117), ('MSFT', -7.4210218586584515), ('CVX', 7.55228253055503), ('BA', 7.705753146002688), ('T', -8.012430209635964), ('PFE', -8.738561927798447), ('MMM', 8.942765671811905), ('INTC', -9.204237443589692), ('GE', -9.55811993585848), ('CSCO', -9.723561307930108), ('GS', 15.117191502049764), ('IBM', 19.037778517225092), ('V', 22.029080492764624)]\n"
     ]
    }
   ],
   "source": [
    "clf = ElasticNetCV(l1_ratio=[.1, .3, .5, .7, .8, .9, .95, .99, 1], alphas= [.1, 1, 5, 10], cv=5) #basic Elastic Net with CV\n",
    "clf.fit(X_train4, y_train4)\n",
    "train_predictions = clf.predict(X_train4)\n",
    "test_predictions = clf.predict(X_test4)\n",
    "print(\"Train MSE: {}\".format(mean_squared_error(y_train4, train_predictions)))\n",
    "print(\"Test MSE: {}\".format(mean_squared_error(y_test4, test_predictions)))\n",
    "print(sorted(list(zip(data_nopen_date, clf.coef_)), key=lambda x: abs(x[1])))"
   ]
  },
  {
   "cell_type": "code",
   "execution_count": 104,
   "metadata": {
    "scrolled": true
   },
   "outputs": [
    {
     "name": "stdout",
     "output_type": "stream",
     "text": [
      "Train MSE: 36.59852877098403\n",
      "Test MSE: 38.092109124876266\n",
      "[('HD', 0.0), ('NUM_NEG1', -0.0), ('NUM_NEG2', 0.0), ('NUM_NEU1', 0.0), ('NUM_NEU2', 0.0), ('PG', 0.0), ('TW1', 0.0), ('NUM_POS1_PER', -0.0), ('NUM_POS2_PER', -0.0), ('TW2', 0.08999069270163308), ('TW', 0.09539467593899864), ('NUM_NEG1_PER', -0.15752208002475032), ('NUM_POS2', 0.22409680767781998), ('NUM_NEG2_PER', -0.27207238482315504), ('NUM_POS1', 0.291687966409637), ('NUM_NEU2_PER', 0.4771318477333087), ('WMT', -0.48524966799481506), ('UNH', -0.566674741901884), ('DIS', -0.7158761308126995), ('NUM_NEU1_PER', 0.7471552682550409), ('NKE', -0.8532421474821428), ('AXP', 1.2617061765294721), ('TRV', 1.271109468133744), ('JNJ', 2.620561748189393), ('CAT', 2.722703935244513), ('XOM', 2.753877221677106), ('DD', -2.8615805625034123), ('MCD', 3.106924117460492), ('JPM', -3.961016462175507), ('MRK', -4.754415122370314), ('UTX', 5.303196411895585), ('VZ', -5.351105259469495), ('KO', -6.887693912806744), ('MSFT', -7.414372117701034), ('CVX', 7.538705277537737), ('BA', 7.696615518928613), ('T', -7.969063225910531), ('PFE', -8.725976179592253), ('MMM', 8.951024554910141), ('INTC', -9.22848937059042), ('GE', -9.531386241006945), ('CSCO', -9.73841325946984), ('GS', 15.088326872530612), ('IBM', 19.01187164809554), ('V', 22.020759505349456)]\n"
     ]
    }
   ],
   "source": [
    "clf = ElasticNetCV(l1_ratio=[.1, .3, .5, .7, .8, .9, .95, .99, 1], alphas= [.1, 1, 5, 10], cv=5) #basic Elastic Net with CV\n",
    "clf.fit(X_train5, y_train5)\n",
    "train_predictions = clf.predict(X_train5)\n",
    "test_predictions = clf.predict(X_test5)\n",
    "print(\"Train MSE: {}\".format(mean_squared_error(y_train5, train_predictions)))\n",
    "print(\"Test MSE: {}\".format(mean_squared_error(y_test5, test_predictions)))\n",
    "print(sorted(list(zip(data_nopen_prev, clf.coef_)), key=lambda x: abs(x[1])))"
   ]
  },
  {
   "cell_type": "code",
   "execution_count": null,
   "metadata": {},
   "outputs": [],
   "source": []
  }
 ],
 "metadata": {
  "kernelspec": {
   "display_name": "Python 3",
   "language": "python",
   "name": "python3"
  },
  "language_info": {
   "codemirror_mode": {
    "name": "ipython",
    "version": 3
   },
   "file_extension": ".py",
   "mimetype": "text/x-python",
   "name": "python",
   "nbconvert_exporter": "python",
   "pygments_lexer": "ipython3",
   "version": "3.6.5"
  }
 },
 "nbformat": 4,
 "nbformat_minor": 2
}
